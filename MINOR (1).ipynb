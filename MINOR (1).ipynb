{
  "nbformat": 4,
  "nbformat_minor": 0,
  "metadata": {
    "colab": {
      "name": "MINOR.ipynb",
      "provenance": [],
      "collapsed_sections": [
        "eh5EEmfBz_9V",
        "fRx-1GJ11nXt",
        "QDz6McPN4J2S",
        "K2BY-baxjjKs",
        "UR4gtQmupPMv",
        "8MISu9YAmOic",
        "gUTfMilgoZTC",
        "HpUToFuToSeq",
        "4zoTAki7rG5i"
      ],
      "machine_shape": "hm"
    },
    "kernelspec": {
      "name": "python3",
      "display_name": "Python 3"
    },
    "accelerator": "GPU"
  },
  "cells": [
    {
      "cell_type": "markdown",
      "metadata": {
        "id": "33hiK0sjAzXM",
        "colab_type": "text"
      },
      "source": [
        "# **IMPORTS**"
      ]
    },
    {
      "cell_type": "code",
      "metadata": {
        "id": "qRj1gd8nHQZ7",
        "colab_type": "code",
        "outputId": "56e931a7-ce3c-4b89-9759-30b9a1db9984",
        "colab": {
          "base_uri": "https://localhost:8080/",
          "height": 80
        }
      },
      "source": [
        "import tensorflow as tf\n",
        "import keras as K \n",
        "from time import time\n",
        "import pandas as pd\n",
        "import matplotlib.pyplot as plt\n",
        "from sklearn.model_selection import train_test_split\n",
        "from tensorflow.python.keras import backend as K"
      ],
      "execution_count": 0,
      "outputs": [
        {
          "output_type": "display_data",
          "data": {
            "text/html": [
              "<p style=\"color: red;\">\n",
              "The default version of TensorFlow in Colab will soon switch to TensorFlow 2.x.<br>\n",
              "We recommend you <a href=\"https://www.tensorflow.org/guide/migrate\" target=\"_blank\">upgrade</a> now \n",
              "or ensure your notebook will continue to use TensorFlow 1.x via the <code>%tensorflow_version 1.x</code> magic:\n",
              "<a href=\"https://colab.research.google.com/notebooks/tensorflow_version.ipynb\" target=\"_blank\">more info</a>.</p>\n"
            ],
            "text/plain": [
              "<IPython.core.display.HTML object>"
            ]
          },
          "metadata": {
            "tags": []
          }
        },
        {
          "output_type": "stream",
          "text": [
            "Using TensorFlow backend.\n"
          ],
          "name": "stderr"
        }
      ]
    },
    {
      "cell_type": "code",
      "metadata": {
        "id": "JU1gFICVIBYX",
        "colab_type": "code",
        "colab": {}
      },
      "source": [
        "from keras.models import Model,Sequential\n",
        "from keras.layers import Layer,Input,Embedding,LSTM,Dropout,Dense,Lambda,Bidirectional\n",
        "\n",
        "from keras.preprocessing.sequence import pad_sequences\n",
        "from keras.optimizers import adam,adadelta"
      ],
      "execution_count": 0,
      "outputs": []
    },
    {
      "cell_type": "code",
      "metadata": {
        "id": "qjPyvrqDXWMJ",
        "colab_type": "code",
        "colab": {}
      },
      "source": [
        "import gensim\n",
        "import numpy as np\n",
        "import itertools\n",
        "from nltk.corpus import stopwords\n",
        "from gensim.models import KeyedVectors,Word2Vec"
      ],
      "execution_count": 0,
      "outputs": []
    },
    {
      "cell_type": "code",
      "metadata": {
        "id": "pwCHQRf7Aasv",
        "colab_type": "code",
        "colab": {}
      },
      "source": [
        "from nltk.corpus import stopwords\n"
      ],
      "execution_count": 0,
      "outputs": []
    },
    {
      "cell_type": "code",
      "metadata": {
        "id": "rD8YIF1M8v1x",
        "colab_type": "code",
        "colab": {}
      },
      "source": [
        "import re\n",
        "import gensim"
      ],
      "execution_count": 0,
      "outputs": []
    },
    {
      "cell_type": "code",
      "metadata": {
        "id": "fu3exuBqA6sO",
        "colab_type": "code",
        "outputId": "60a39fc2-7ed9-42be-fdf3-717206eee623",
        "colab": {
          "base_uri": "https://localhost:8080/",
          "height": 68
        }
      },
      "source": [
        "import nltk\n",
        "nltk.download('stopwords')"
      ],
      "execution_count": 0,
      "outputs": [
        {
          "output_type": "stream",
          "text": [
            "[nltk_data] Downloading package stopwords to /root/nltk_data...\n",
            "[nltk_data]   Unzipping corpora/stopwords.zip.\n"
          ],
          "name": "stdout"
        },
        {
          "output_type": "execute_result",
          "data": {
            "text/plain": [
              "True"
            ]
          },
          "metadata": {
            "tags": []
          },
          "execution_count": 12
        }
      ]
    },
    {
      "cell_type": "code",
      "metadata": {
        "id": "U0428VVKKfbV",
        "colab_type": "code",
        "outputId": "59558338-d5d9-4de6-fd28-fcf605ec287d",
        "colab": {
          "base_uri": "https://localhost:8080/",
          "height": 122
        }
      },
      "source": [
        "from google.colab import drive\n",
        "drive.mount('/content/gdrive', force_remount=True)\n",
        "root_dir = \"/content/gdrive/My Drive/\"\n",
        "base_dir = root_dir + 'Colab Notebooks/'\n"
      ],
      "execution_count": 0,
      "outputs": [
        {
          "output_type": "stream",
          "text": [
            "Go to this URL in a browser: https://accounts.google.com/o/oauth2/auth?client_id=947318989803-6bn6qk8qdgf4n4g3pfee6491hc0brc4i.apps.googleusercontent.com&redirect_uri=urn%3aietf%3awg%3aoauth%3a2.0%3aoob&response_type=code&scope=email%20https%3a%2f%2fwww.googleapis.com%2fauth%2fdocs.test%20https%3a%2f%2fwww.googleapis.com%2fauth%2fdrive%20https%3a%2f%2fwww.googleapis.com%2fauth%2fdrive.photos.readonly%20https%3a%2f%2fwww.googleapis.com%2fauth%2fpeopleapi.readonly\n",
            "\n",
            "Enter your authorization code:\n",
            "··········\n",
            "Mounted at /content/gdrive\n"
          ],
          "name": "stdout"
        }
      ]
    },
    {
      "cell_type": "code",
      "metadata": {
        "id": "s7UUUubFPFQV",
        "colab_type": "code",
        "colab": {}
      },
      "source": [
        "from pathlib import Path\n"
      ],
      "execution_count": 0,
      "outputs": []
    },
    {
      "cell_type": "code",
      "metadata": {
        "id": "BSymfq81TEOB",
        "colab_type": "code",
        "colab": {}
      },
      "source": [
        "path=Path(base_dir+'Minor/')\n",
        "path.mkdir(parents=True,exist_ok=True)"
      ],
      "execution_count": 0,
      "outputs": []
    },
    {
      "cell_type": "code",
      "metadata": {
        "id": "d8FI69e9AUfx",
        "colab_type": "code",
        "outputId": "80cc9c4a-89a6-46ac-dd17-1d296623c651",
        "colab": {
          "base_uri": "https://localhost:8080/",
          "height": 833
        }
      },
      "source": [
        "!sudo apt install tesseract-ocr\n",
        "!pip install pytesseract"
      ],
      "execution_count": 0,
      "outputs": [
        {
          "output_type": "stream",
          "text": [
            "Reading package lists... Done\n",
            "Building dependency tree       \n",
            "Reading state information... Done\n",
            "The following package was automatically installed and is no longer required:\n",
            "  libnvidia-common-430\n",
            "Use 'sudo apt autoremove' to remove it.\n",
            "The following additional packages will be installed:\n",
            "  tesseract-ocr-eng tesseract-ocr-osd\n",
            "The following NEW packages will be installed:\n",
            "  tesseract-ocr tesseract-ocr-eng tesseract-ocr-osd\n",
            "0 upgraded, 3 newly installed, 0 to remove and 25 not upgraded.\n",
            "Need to get 4,795 kB of archives.\n",
            "After this operation, 15.8 MB of additional disk space will be used.\n",
            "Get:1 http://archive.ubuntu.com/ubuntu bionic/universe amd64 tesseract-ocr-eng all 4.00~git24-0e00fe6-1.2 [1,588 kB]\n",
            "Get:2 http://archive.ubuntu.com/ubuntu bionic/universe amd64 tesseract-ocr-osd all 4.00~git24-0e00fe6-1.2 [2,989 kB]\n",
            "Get:3 http://archive.ubuntu.com/ubuntu bionic/universe amd64 tesseract-ocr amd64 4.00~git2288-10f4998a-2 [218 kB]\n",
            "Fetched 4,795 kB in 3s (1,455 kB/s)\n",
            "debconf: unable to initialize frontend: Dialog\n",
            "debconf: (No usable dialog-like program is installed, so the dialog based frontend cannot be used. at /usr/share/perl5/Debconf/FrontEnd/Dialog.pm line 76, <> line 3.)\n",
            "debconf: falling back to frontend: Readline\n",
            "debconf: unable to initialize frontend: Readline\n",
            "debconf: (This frontend requires a controlling tty.)\n",
            "debconf: falling back to frontend: Teletype\n",
            "dpkg-preconfigure: unable to re-open stdin: \n",
            "Selecting previously unselected package tesseract-ocr-eng.\n",
            "(Reading database ... 145113 files and directories currently installed.)\n",
            "Preparing to unpack .../tesseract-ocr-eng_4.00~git24-0e00fe6-1.2_all.deb ...\n",
            "Unpacking tesseract-ocr-eng (4.00~git24-0e00fe6-1.2) ...\n",
            "Selecting previously unselected package tesseract-ocr-osd.\n",
            "Preparing to unpack .../tesseract-ocr-osd_4.00~git24-0e00fe6-1.2_all.deb ...\n",
            "Unpacking tesseract-ocr-osd (4.00~git24-0e00fe6-1.2) ...\n",
            "Selecting previously unselected package tesseract-ocr.\n",
            "Preparing to unpack .../tesseract-ocr_4.00~git2288-10f4998a-2_amd64.deb ...\n",
            "Unpacking tesseract-ocr (4.00~git2288-10f4998a-2) ...\n",
            "Setting up tesseract-ocr-osd (4.00~git24-0e00fe6-1.2) ...\n",
            "Setting up tesseract-ocr-eng (4.00~git24-0e00fe6-1.2) ...\n",
            "Setting up tesseract-ocr (4.00~git2288-10f4998a-2) ...\n",
            "Processing triggers for man-db (2.8.3-2ubuntu0.1) ...\n",
            "Collecting pytesseract\n",
            "  Downloading https://files.pythonhosted.org/packages/df/4e/42c54b4344cbcb392d949ffb0b1c1e95f03ceaa6a354c8d3aafcd470592e/pytesseract-0.3.2.tar.gz\n",
            "Requirement already satisfied: Pillow in /usr/local/lib/python3.6/dist-packages (from pytesseract) (6.2.2)\n",
            "Building wheels for collected packages: pytesseract\n",
            "  Building wheel for pytesseract (setup.py) ... \u001b[?25l\u001b[?25hdone\n",
            "  Created wheel for pytesseract: filename=pytesseract-0.3.2-py2.py3-none-any.whl size=13373 sha256=97995826b8275a35b8f7a1e95d1fdcccf5966a44923733f0b5eb5f473d8fb0d7\n",
            "  Stored in directory: /root/.cache/pip/wheels/c2/60/55/ec507bce8e8ccb516954accf661ee60c8b34198fafdfb81872\n",
            "Successfully built pytesseract\n",
            "Installing collected packages: pytesseract\n",
            "Successfully installed pytesseract-0.3.2\n"
          ],
          "name": "stdout"
        }
      ]
    },
    {
      "cell_type": "code",
      "metadata": {
        "id": "u6mdqOMMzyzR",
        "colab_type": "code",
        "colab": {}
      },
      "source": [
        "import pytesseract"
      ],
      "execution_count": 0,
      "outputs": []
    },
    {
      "cell_type": "code",
      "metadata": {
        "id": "WFHzcFqx0r9F",
        "colab_type": "code",
        "colab": {}
      },
      "source": [
        ""
      ],
      "execution_count": 0,
      "outputs": []
    },
    {
      "cell_type": "code",
      "metadata": {
        "id": "mPpP_kci01nx",
        "colab_type": "code",
        "colab": {}
      },
      "source": [
        "from PIL import Image"
      ],
      "execution_count": 0,
      "outputs": []
    },
    {
      "cell_type": "code",
      "metadata": {
        "id": "Jobxwxrv2CSu",
        "colab_type": "code",
        "outputId": "4cc47513-b29e-4152-9c4f-e13c7711ac3d",
        "colab": {
          "base_uri": "https://localhost:8080/",
          "height": 172
        }
      },
      "source": [
        "Image.open(base_dir+'Minor/test.png')"
      ],
      "execution_count": 0,
      "outputs": [
        {
          "output_type": "execute_result",
          "data": {
            "image/png": "[encoded data removed]",
            "text/plain": [
              "<PIL.PngImagePlugin.PngImageFile image mode=P size=325x155 at 0x7F1BF83CE940>"
            ]
          },
          "metadata": {
            "tags": []
          },
          "execution_count": 16
        }
      ]
    },
    {
      "cell_type": "code",
      "metadata": {
        "id": "McF02sMi_4Wf",
        "colab_type": "code",
        "colab": {}
      },
      "source": [
        ""
      ],
      "execution_count": 0,
      "outputs": []
    },
    {
      "cell_type": "code",
      "metadata": {
        "id": "BreqIwQyzyx8",
        "colab_type": "code",
        "outputId": "3eac220a-ba67-4136-f5e5-6eb0fb997248",
        "colab": {
          "base_uri": "https://localhost:8080/",
          "height": 54
        }
      },
      "source": [
        "\n",
        "pytesseract.image_to_string(Image.open(base_dir+'Minor/test.png'))"
      ],
      "execution_count": 0,
      "outputs": [
        {
          "output_type": "execute_result",
          "data": {
            "text/plain": [
              "'Section 513 extends the time\\nin which to run away ifthe ap-\\nplicant was outside Califor-\\nnia when the kitten appeared\\nor leaves the state after it ap-\\npeared. It reads: “If, when the\\ncute kitten appears beside a\\nperson, he is out of the State,\\nhe may run away at the earliest.\\n\\nSection 513 extends the time\\nin which to run away if the\\napplicant was outside\\nCalifornia when the kitten\\nappeared or leaves the state\\nalter it appeared. It reads\\n“If, when the cute kitten\\nappears beside a person, he is\\n‘out of the State, he may run'"
            ]
          },
          "metadata": {
            "tags": []
          },
          "execution_count": 17
        }
      ]
    },
    {
      "cell_type": "code",
      "metadata": {
        "id": "itcMjWxGzyvV",
        "colab_type": "code",
        "colab": {}
      },
      "source": [
        ""
      ],
      "execution_count": 0,
      "outputs": []
    },
    {
      "cell_type": "markdown",
      "metadata": {
        "id": "yihxOjxk8aCb",
        "colab_type": "text"
      },
      "source": [
        "# **Preprocessing**"
      ]
    },
    {
      "cell_type": "code",
      "metadata": {
        "id": "NFUnfKZuzBaf",
        "colab_type": "code",
        "colab": {}
      },
      "source": [
        ""
      ],
      "execution_count": 0,
      "outputs": []
    },
    {
      "cell_type": "code",
      "metadata": {
        "id": "ujcu2A2BzBW1",
        "colab_type": "code",
        "colab": {}
      },
      "source": [
        ""
      ],
      "execution_count": 0,
      "outputs": []
    },
    {
      "cell_type": "code",
      "metadata": {
        "id": "01kQRWYZzBUc",
        "colab_type": "code",
        "colab": {}
      },
      "source": [
        ""
      ],
      "execution_count": 0,
      "outputs": []
    },
    {
      "cell_type": "code",
      "metadata": {
        "id": "BI__1zF6zBRs",
        "colab_type": "code",
        "colab": {}
      },
      "source": [
        ""
      ],
      "execution_count": 0,
      "outputs": []
    },
    {
      "cell_type": "code",
      "metadata": {
        "id": "VZvLz4yFzBNZ",
        "colab_type": "code",
        "colab": {}
      },
      "source": [
        ""
      ],
      "execution_count": 0,
      "outputs": []
    },
    {
      "cell_type": "code",
      "metadata": {
        "id": "2WqXau-pzBKc",
        "colab_type": "code",
        "colab": {}
      },
      "source": [
        ""
      ],
      "execution_count": 0,
      "outputs": []
    },
    {
      "cell_type": "code",
      "metadata": {
        "id": "1YXqvp9cCb24",
        "colab_type": "code",
        "outputId": "b19ddbef-7868-431d-da84-3bb4cf376cd5",
        "colab": {
          "base_uri": "https://localhost:8080/",
          "height": 204
        }
      },
      "source": [
        "!wget -c \"https://s3.amazonaws.com/dl4j-distribution/GoogleNews-vectors-negative300.bin.gz\""
      ],
      "execution_count": 0,
      "outputs": [
        {
          "output_type": "stream",
          "text": [
            "--2020-02-28 19:51:30--  https://s3.amazonaws.com/dl4j-distribution/GoogleNews-vectors-negative300.bin.gz\n",
            "Resolving s3.amazonaws.com (s3.amazonaws.com)... 52.216.244.30\n",
            "Connecting to s3.amazonaws.com (s3.amazonaws.com)|52.216.244.30|:443... connected.\n",
            "HTTP request sent, awaiting response... 200 OK\n",
            "Length: 1647046227 (1.5G) [application/x-gzip]\n",
            "Saving to: ‘GoogleNews-vectors-negative300.bin.gz’\n",
            "\n",
            "GoogleNews-vectors- 100%[===================>]   1.53G  15.1MB/s    in 97s     \n",
            "\n",
            "2020-02-28 19:53:08 (16.2 MB/s) - ‘GoogleNews-vectors-negative300.bin.gz’ saved [1647046227/1647046227]\n",
            "\n"
          ],
          "name": "stdout"
        }
      ]
    },
    {
      "cell_type": "code",
      "metadata": {
        "id": "XyEzCBSJ8eM9",
        "colab_type": "code",
        "colab": {}
      },
      "source": [
        "def text_to_word_list(text):\n",
        "    \n",
        "    text = str(text)\n",
        "    text = text.lower()\n",
        "\n",
        "    \n",
        "    text = re.sub(r\"[^A-Za-z0-9^,!.\\/'+-=]\", \" \", text)\n",
        "    text = re.sub(r\"what's\", \"what is \", text)\n",
        "    text = re.sub(r\"\\'s\", \" \", text)\n",
        "    text = re.sub(r\"\\'ve\", \" have \", text)\n",
        "    text = re.sub(r\"can't\", \"cannot \", text)\n",
        "    text = re.sub(r\"n't\", \" not \", text)\n",
        "    text = re.sub(r\"i'm\", \"i am \", text)\n",
        "    text = re.sub(r\"\\'re\", \" are \", text)\n",
        "    text = re.sub(r\"\\'d\", \" would \", text)\n",
        "    text = re.sub(r\"\\'ll\", \" will \", text)\n",
        "    text = re.sub(r\",\", \" \", text)\n",
        "    text = re.sub(r\"\\.\", \" \", text)\n",
        "    text = re.sub(r\"!\", \" ! \", text)\n",
        "    text = re.sub(r\"\\/\", \" \", text)\n",
        "    text = re.sub(r\"\\^\", \" ^ \", text)\n",
        "    text = re.sub(r\"\\+\", \" + \", text)\n",
        "    text = re.sub(r\"\\-\", \" - \", text)\n",
        "    text = re.sub(r\"\\=\", \" = \", text)\n",
        "    text = re.sub(r\"'\", \" \", text)\n",
        "    text = re.sub(r\"(\\d+)(k)\", r\"\\g<1>000\", text)\n",
        "    text = re.sub(r\":\", \" : \", text)\n",
        "    text = re.sub(r\" e g \", \" eg \", text)\n",
        "    text = re.sub(r\" b g \", \" bg \", text)\n",
        "    text = re.sub(r\" u s \", \" american \", text)\n",
        "    text = re.sub(r\"\\0s\", \"0\", text)\n",
        "    text = re.sub(r\" 9 11 \", \"911\", text)\n",
        "    text = re.sub(r\"e - mail\", \"email\", text)\n",
        "    text = re.sub(r\"j k\", \"jk\", text)\n",
        "    text = re.sub(r\"\\s{2,}\", \" \", text)\n",
        "\n",
        "    text = text.split()\n",
        "\n",
        "    return text"
      ],
      "execution_count": 0,
      "outputs": []
    },
    {
      "cell_type": "code",
      "metadata": {
        "id": "kYK5f4unwf98",
        "colab_type": "code",
        "colab": {}
      },
      "source": [
        "def creator(data):\n",
        "  df=pd.read_csv(path/'Minor_train_data.csv',header=None,names=['QuestionNumber','Answer','Score','CorrectAnswer'])\n",
        "  sentences=data['Answer'].tolist()\n",
        " \n",
        "  sentences+=data['CorrectAnswer'].tolist()\n",
        "  \n",
        "  sentences+=df['Answer'].tolist()\n",
        "  \n",
        "  \n",
        "  sentences+=df['CorrectAnswer'].tolist()\n",
        "   \n",
        "  return sentences"
      ],
      "execution_count": 0,
      "outputs": []
    },
    {
      "cell_type": "code",
      "metadata": {
        "id": "o6eEyEgV3xBZ",
        "colab_type": "code",
        "colab": {}
      },
      "source": [
        "def ans_cort(df,vocabs,vocabs_cnt):\n",
        "  \n",
        "  stops = set(stopwords.words('english'))\n",
        "  \n",
        "  for index, row in df.iterrows():\n",
        "      for answer in ['Answer','CorrectAnswer']:\n",
        "            q2n = []  \n",
        "            for word in text_to_word_list(row[answer]):\n",
        "                \n",
        "                if word in stops:\n",
        "                    continue\n",
        "\n",
        "                if word not in vocabs:\n",
        "                    \n",
        "                    vocabs_cnt += 1\n",
        "                    vocabs[word] = vocabs_cnt\n",
        "                    q2n.append(vocabs_cnt)\n",
        "                else:\n",
        "                    q2n.append(vocabs[word])\n",
        "\n",
        "            \n",
        "            if answer=='Answer':\n",
        "              df.at[index, 'Answer' + '_n'] = q2n\n",
        "            else:\n",
        "              df.at[index, 'Correct' + '_n'] = q2n\n",
        "  return df,vocabs,vocabs_cnt              "
      ],
      "execution_count": 0,
      "outputs": []
    },
    {
      "cell_type": "code",
      "metadata": {
        "id": "_a6X4OUR8jUM",
        "colab_type": "code",
        "colab": {}
      },
      "source": [
        "def make_w2v_embeddings(df, embedding_dim=300, empty_w2v=False):\n",
        "    vocabs = {}\n",
        "    vocabs_cnt = 0\n",
        "\n",
        "    vocabs_not_w2v = {}\n",
        "    vocabs_not_w2v_cnt = 0\n",
        "    \n",
        "    sent=creator(df)\n",
        "    \n",
        "    word2vec=Word2Vec([s.split() for s in sent],size=300)\n",
        "        \n",
        "    word2vec.train(sent, total_examples=len(sent), epochs=10)  \n",
        "\n",
        "    our_df=pd.read_csv(path/'Minor_train_data.csv',header=None,names=['QuestionNumber','Answer','Score','CorrectAnswer'])\n",
        "    our_df['Answer_n']=our_df['Answer']\n",
        "    our_df['Correct_n']=our_df['CorrectAnswer']\n",
        "    \n",
        "    our_df,vocabs,vocabs_cnt=ans_cort(our_df,vocabs,vocabs_cnt)\n",
        "    \n",
        "    df,vocabs,vocabs_cnt=ans_cort(df,vocabs,vocabs_cnt)\n",
        "   \n",
        "  \n",
        "    embeddings = 1 * np.random.randn(len(vocabs) + 1, embedding_dim)\n",
        "    embeddings[0] = 0 \n",
        "    \n",
        "   \n",
        "    for word, index in vocabs.items():\n",
        "        if word in word2vec.wv.vocab:\n",
        "            embeddings[index] = word2vec.wv.word_vec(word)\n",
        "    del word2vec\n",
        "\n",
        "    return df, embeddings,our_df,vocabs"
      ],
      "execution_count": 0,
      "outputs": []
    },
    {
      "cell_type": "markdown",
      "metadata": {
        "id": "HcBTymim8WA1",
        "colab_type": "text"
      },
      "source": [
        "# **DATA**"
      ]
    },
    {
      "cell_type": "markdown",
      "metadata": {
        "id": "eh5EEmfBz_9V",
        "colab_type": "text"
      },
      "source": [
        "## **PRE TRAINED DATA**"
      ]
    },
    {
      "cell_type": "code",
      "metadata": {
        "id": "ApFv5nt7zGUx",
        "colab_type": "code",
        "colab": {}
      },
      "source": [
        "temp_path=path"
      ],
      "execution_count": 0,
      "outputs": []
    },
    {
      "cell_type": "code",
      "metadata": {
        "id": "66XgskMBNdQV",
        "colab_type": "code",
        "colab": {}
      },
      "source": [
        "temp_p1=temp_path/'Sick.csv'"
      ],
      "execution_count": 0,
      "outputs": []
    },
    {
      "cell_type": "code",
      "metadata": {
        "id": "JlN-J_UsNVMY",
        "colab_type": "code",
        "colab": {}
      },
      "source": [
        "pre_df=pd.read_csv(temp_p1)"
      ],
      "execution_count": 0,
      "outputs": []
    },
    {
      "cell_type": "code",
      "metadata": {
        "id": "BHgR5CiKaQwj",
        "colab_type": "code",
        "outputId": "31d16509-f13e-4387-b8ee-82340181bf6c",
        "colab": {
          "base_uri": "https://localhost:8080/",
          "height": 289
        }
      },
      "source": [
        "pre_df.head()"
      ],
      "execution_count": 0,
      "outputs": [
        {
          "output_type": "execute_result",
          "data": {
            "text/html": [
              "<div>\n",
              "<style scoped>\n",
              "    .dataframe tbody tr th:only-of-type {\n",
              "        vertical-align: middle;\n",
              "    }\n",
              "\n",
              "    .dataframe tbody tr th {\n",
              "        vertical-align: top;\n",
              "    }\n",
              "\n",
              "    .dataframe thead th {\n",
              "        text-align: right;\n",
              "    }\n",
              "</style>\n",
              "<table border=\"1\" class=\"dataframe\">\n",
              "  <thead>\n",
              "    <tr style=\"text-align: right;\">\n",
              "      <th></th>\n",
              "      <th>pair_ID</th>\n",
              "      <th>sentence_A</th>\n",
              "      <th>sentence_B</th>\n",
              "      <th>entailment_label</th>\n",
              "      <th>relatedness_score</th>\n",
              "      <th>entailment_AB</th>\n",
              "      <th>entailment_BA</th>\n",
              "      <th>sentence_A_original</th>\n",
              "      <th>sentence_B_original</th>\n",
              "      <th>sentence_A_dataset</th>\n",
              "      <th>sentence_B_dataset</th>\n",
              "      <th>SemEval_set</th>\n",
              "    </tr>\n",
              "  </thead>\n",
              "  <tbody>\n",
              "    <tr>\n",
              "      <th>0</th>\n",
              "      <td>1</td>\n",
              "      <td>A group of kids is playing in a yard and an ol...</td>\n",
              "      <td>A group of boys in a yard is playing and a man...</td>\n",
              "      <td>NEUTRAL</td>\n",
              "      <td>4.5</td>\n",
              "      <td>A_neutral_B</td>\n",
              "      <td>B_neutral_A</td>\n",
              "      <td>A group of children playing in a yard, a man i...</td>\n",
              "      <td>A group of children playing in a yard, a man i...</td>\n",
              "      <td>FLICKR</td>\n",
              "      <td>FLICKR</td>\n",
              "      <td>TRAIN</td>\n",
              "    </tr>\n",
              "    <tr>\n",
              "      <th>1</th>\n",
              "      <td>2</td>\n",
              "      <td>A group of children is playing in the house an...</td>\n",
              "      <td>A group of kids is playing in a yard and an ol...</td>\n",
              "      <td>NEUTRAL</td>\n",
              "      <td>3.2</td>\n",
              "      <td>A_contradicts_B</td>\n",
              "      <td>B_neutral_A</td>\n",
              "      <td>A group of children playing in a yard, a man i...</td>\n",
              "      <td>A group of children playing in a yard, a man i...</td>\n",
              "      <td>FLICKR</td>\n",
              "      <td>FLICKR</td>\n",
              "      <td>TRAIN</td>\n",
              "    </tr>\n",
              "    <tr>\n",
              "      <th>2</th>\n",
              "      <td>3</td>\n",
              "      <td>The young boys are playing outdoors and the ma...</td>\n",
              "      <td>The kids are playing outdoors near a man with ...</td>\n",
              "      <td>ENTAILMENT</td>\n",
              "      <td>4.7</td>\n",
              "      <td>A_entails_B</td>\n",
              "      <td>B_entails_A</td>\n",
              "      <td>The children are playing outdoors, while a man...</td>\n",
              "      <td>The children are playing outdoors, while a man...</td>\n",
              "      <td>FLICKR</td>\n",
              "      <td>FLICKR</td>\n",
              "      <td>TRAIN</td>\n",
              "    </tr>\n",
              "    <tr>\n",
              "      <th>3</th>\n",
              "      <td>4</td>\n",
              "      <td>The young boys are playing outdoors and the ma...</td>\n",
              "      <td>There is no boy playing outdoors and there is ...</td>\n",
              "      <td>CONTRADICTION</td>\n",
              "      <td>3.6</td>\n",
              "      <td>A_contradicts_B</td>\n",
              "      <td>B_contradicts_A</td>\n",
              "      <td>The children are playing outdoors, while a man...</td>\n",
              "      <td>The children are playing outdoors, while a man...</td>\n",
              "      <td>FLICKR</td>\n",
              "      <td>FLICKR</td>\n",
              "      <td>TRIAL</td>\n",
              "    </tr>\n",
              "    <tr>\n",
              "      <th>4</th>\n",
              "      <td>5</td>\n",
              "      <td>The kids are playing outdoors near a man with ...</td>\n",
              "      <td>A group of kids is playing in a yard and an ol...</td>\n",
              "      <td>NEUTRAL</td>\n",
              "      <td>3.4</td>\n",
              "      <td>A_neutral_B</td>\n",
              "      <td>B_neutral_A</td>\n",
              "      <td>A group of children playing in a yard, a man i...</td>\n",
              "      <td>The children are playing outdoors, while a man...</td>\n",
              "      <td>FLICKR</td>\n",
              "      <td>FLICKR</td>\n",
              "      <td>TRAIN</td>\n",
              "    </tr>\n",
              "  </tbody>\n",
              "</table>\n",
              "</div>"
            ],
            "text/plain": [
              "   pair_ID  ... SemEval_set\n",
              "0        1  ...       TRAIN\n",
              "1        2  ...       TRAIN\n",
              "2        3  ...       TRAIN\n",
              "3        4  ...       TRIAL\n",
              "4        5  ...       TRAIN\n",
              "\n",
              "[5 rows x 12 columns]"
            ]
          },
          "metadata": {
            "tags": []
          },
          "execution_count": 26
        }
      ]
    },
    {
      "cell_type": "code",
      "metadata": {
        "id": "6IL1tjO5lTTE",
        "colab_type": "code",
        "outputId": "30bb9232-be33-4ecb-f0e2-efdecb9162e0",
        "colab": {
          "base_uri": "https://localhost:8080/",
          "height": 34
        }
      },
      "source": [
        "pre_df.shape"
      ],
      "execution_count": 0,
      "outputs": [
        {
          "output_type": "execute_result",
          "data": {
            "text/plain": [
              "(9840, 12)"
            ]
          },
          "metadata": {
            "tags": []
          },
          "execution_count": 27
        }
      ]
    },
    {
      "cell_type": "code",
      "metadata": {
        "id": "Y5T8VGQ-gqHy",
        "colab_type": "code",
        "colab": {}
      },
      "source": [
        "answer=pre_df['sentence_A'].tolist()\n"
      ],
      "execution_count": 0,
      "outputs": []
    },
    {
      "cell_type": "code",
      "metadata": {
        "id": "_tDM1JwHj3cD",
        "colab_type": "code",
        "outputId": "5da56435-74e5-42ae-e393-bd98b0c0bd41",
        "colab": {
          "base_uri": "https://localhost:8080/",
          "height": 34
        }
      },
      "source": [
        "answer=answer+(pre_df['sentence_B'].tolist())\n",
        "len(answer)"
      ],
      "execution_count": 0,
      "outputs": [
        {
          "output_type": "execute_result",
          "data": {
            "text/plain": [
              "19680"
            ]
          },
          "metadata": {
            "tags": []
          },
          "execution_count": 29
        }
      ]
    },
    {
      "cell_type": "code",
      "metadata": {
        "id": "RmMcEQOpN5Ju",
        "colab_type": "code",
        "outputId": "1f66c21b-a796-4f8f-da87-a046c297ab7a",
        "colab": {
          "base_uri": "https://localhost:8080/",
          "height": 34
        }
      },
      "source": [
        "\n",
        "correct=pre_df['sentence_A_original'].tolist()\n",
        "correct=correct+pre_df['sentence_B_original'].tolist()\n",
        "len(correct)"
      ],
      "execution_count": 0,
      "outputs": [
        {
          "output_type": "execute_result",
          "data": {
            "text/plain": [
              "19680"
            ]
          },
          "metadata": {
            "tags": []
          },
          "execution_count": 30
        }
      ]
    },
    {
      "cell_type": "code",
      "metadata": {
        "id": "Q19bP2zLNxU0",
        "colab_type": "code",
        "outputId": "44da195c-7131-4888-d8c0-dff2124e998f",
        "colab": {
          "base_uri": "https://localhost:8080/",
          "height": 34
        }
      },
      "source": [
        "scores=pre_df['relatedness_score'].tolist()\n",
        "scores+=pre_df['relatedness_score'].tolist()\n",
        "len(scores)"
      ],
      "execution_count": 0,
      "outputs": [
        {
          "output_type": "execute_result",
          "data": {
            "text/plain": [
              "19680"
            ]
          },
          "metadata": {
            "tags": []
          },
          "execution_count": 31
        }
      ]
    },
    {
      "cell_type": "code",
      "metadata": {
        "id": "6_TOo0a2u9PT",
        "colab_type": "code",
        "colab": {}
      },
      "source": [
        "final_dataset=pd.DataFrame({'Answer':answer ,'CorrectAnswer': correct , 'Score': scores})"
      ],
      "execution_count": 0,
      "outputs": []
    },
    {
      "cell_type": "code",
      "metadata": {
        "id": "ZQWcuqxju9LF",
        "colab_type": "code",
        "outputId": "5ce7834f-1c6f-401d-940c-2f3e28f82d40",
        "colab": {
          "base_uri": "https://localhost:8080/",
          "height": 204
        }
      },
      "source": [
        "final_dataset.head()"
      ],
      "execution_count": 0,
      "outputs": [
        {
          "output_type": "execute_result",
          "data": {
            "text/html": [
              "<div>\n",
              "<style scoped>\n",
              "    .dataframe tbody tr th:only-of-type {\n",
              "        vertical-align: middle;\n",
              "    }\n",
              "\n",
              "    .dataframe tbody tr th {\n",
              "        vertical-align: top;\n",
              "    }\n",
              "\n",
              "    .dataframe thead th {\n",
              "        text-align: right;\n",
              "    }\n",
              "</style>\n",
              "<table border=\"1\" class=\"dataframe\">\n",
              "  <thead>\n",
              "    <tr style=\"text-align: right;\">\n",
              "      <th></th>\n",
              "      <th>Answer</th>\n",
              "      <th>CorrectAnswer</th>\n",
              "      <th>Score</th>\n",
              "    </tr>\n",
              "  </thead>\n",
              "  <tbody>\n",
              "    <tr>\n",
              "      <th>0</th>\n",
              "      <td>A group of kids is playing in a yard and an ol...</td>\n",
              "      <td>A group of children playing in a yard, a man i...</td>\n",
              "      <td>4.5</td>\n",
              "    </tr>\n",
              "    <tr>\n",
              "      <th>1</th>\n",
              "      <td>A group of children is playing in the house an...</td>\n",
              "      <td>A group of children playing in a yard, a man i...</td>\n",
              "      <td>3.2</td>\n",
              "    </tr>\n",
              "    <tr>\n",
              "      <th>2</th>\n",
              "      <td>The young boys are playing outdoors and the ma...</td>\n",
              "      <td>The children are playing outdoors, while a man...</td>\n",
              "      <td>4.7</td>\n",
              "    </tr>\n",
              "    <tr>\n",
              "      <th>3</th>\n",
              "      <td>The young boys are playing outdoors and the ma...</td>\n",
              "      <td>The children are playing outdoors, while a man...</td>\n",
              "      <td>3.6</td>\n",
              "    </tr>\n",
              "    <tr>\n",
              "      <th>4</th>\n",
              "      <td>The kids are playing outdoors near a man with ...</td>\n",
              "      <td>A group of children playing in a yard, a man i...</td>\n",
              "      <td>3.4</td>\n",
              "    </tr>\n",
              "  </tbody>\n",
              "</table>\n",
              "</div>"
            ],
            "text/plain": [
              "                                              Answer  ... Score\n",
              "0  A group of kids is playing in a yard and an ol...  ...   4.5\n",
              "1  A group of children is playing in the house an...  ...   3.2\n",
              "2  The young boys are playing outdoors and the ma...  ...   4.7\n",
              "3  The young boys are playing outdoors and the ma...  ...   3.6\n",
              "4  The kids are playing outdoors near a man with ...  ...   3.4\n",
              "\n",
              "[5 rows x 3 columns]"
            ]
          },
          "metadata": {
            "tags": []
          },
          "execution_count": 33
        }
      ]
    },
    {
      "cell_type": "code",
      "metadata": {
        "id": "H54gffJiu9HZ",
        "colab_type": "code",
        "outputId": "83813c68-9878-4a6d-cc21-75f8998456a5",
        "colab": {
          "base_uri": "https://localhost:8080/",
          "height": 34
        }
      },
      "source": [
        "final_dataset.shape"
      ],
      "execution_count": 0,
      "outputs": [
        {
          "output_type": "execute_result",
          "data": {
            "text/plain": [
              "(19680, 3)"
            ]
          },
          "metadata": {
            "tags": []
          },
          "execution_count": 34
        }
      ]
    },
    {
      "cell_type": "markdown",
      "metadata": {
        "id": "fRx-1GJ11nXt",
        "colab_type": "text"
      },
      "source": [
        "## **EMBEDDING FOR PRETRAIN**"
      ]
    },
    {
      "cell_type": "code",
      "metadata": {
        "id": "tFAgVitHOCbj",
        "colab_type": "code",
        "colab": {}
      },
      "source": [
        "pretrain_df=final_dataset"
      ],
      "execution_count": 0,
      "outputs": []
    },
    {
      "cell_type": "code",
      "metadata": {
        "id": "PVJRobnp2HI0",
        "colab_type": "code",
        "colab": {}
      },
      "source": [
        "pretrain_df['Answer_n']=pretrain_df['Answer']\n",
        "pretrain_df['Correct_n']=pretrain_df['CorrectAnswer']\n"
      ],
      "execution_count": 0,
      "outputs": []
    },
    {
      "cell_type": "code",
      "metadata": {
        "id": "eSQOyhXn25B-",
        "colab_type": "code",
        "colab": {}
      },
      "source": [
        "pretrain_df,embedding,our_df,vocabs=make_w2v_embeddings(pretrain_df,300,False)\n"
      ],
      "execution_count": 0,
      "outputs": []
    },
    {
      "cell_type": "code",
      "metadata": {
        "id": "xuYFWkLeSv_2",
        "colab_type": "code",
        "outputId": "ae396efc-2935-42b1-dd88-296767103e57",
        "colab": {
          "base_uri": "https://localhost:8080/",
          "height": 34
        }
      },
      "source": [
        "vocabs['behaviour']"
      ],
      "execution_count": 0,
      "outputs": [
        {
          "output_type": "execute_result",
          "data": {
            "text/plain": [
              "19"
            ]
          },
          "metadata": {
            "tags": []
          },
          "execution_count": 38
        }
      ]
    },
    {
      "cell_type": "code",
      "metadata": {
        "id": "GaOWoXuNFlml",
        "colab_type": "code",
        "outputId": "c8645c78-4a75-4a49-a1e0-9cdec767a742",
        "colab": {
          "base_uri": "https://localhost:8080/",
          "height": 34
        }
      },
      "source": [
        "print(embedding.shape)"
      ],
      "execution_count": 0,
      "outputs": [
        {
          "output_type": "stream",
          "text": [
            "(2993, 300)\n"
          ],
          "name": "stdout"
        }
      ]
    },
    {
      "cell_type": "markdown",
      "metadata": {
        "id": "QDz6McPN4J2S",
        "colab_type": "text"
      },
      "source": [
        "## **Adding padding for pretrained data**"
      ]
    },
    {
      "cell_type": "code",
      "metadata": {
        "id": "RdKnY5nQ4OTz",
        "colab_type": "code",
        "colab": {}
      },
      "source": [
        "max_length=25"
      ],
      "execution_count": 0,
      "outputs": []
    },
    {
      "cell_type": "code",
      "metadata": {
        "id": "fJZr04p444ib",
        "colab_type": "code",
        "colab": {}
      },
      "source": [
        "preX=pretrain_df[['Answer_n','Correct_n']]\n",
        "preY=pretrain_df['Score']"
      ],
      "execution_count": 0,
      "outputs": []
    },
    {
      "cell_type": "code",
      "metadata": {
        "id": "KZ-rZMca4bQ6",
        "colab_type": "code",
        "outputId": "4e4caa4a-5b90-4802-ede3-1e733d8b34dc",
        "colab": {
          "base_uri": "https://localhost:8080/",
          "height": 119
        }
      },
      "source": [
        "for i in preX:\n",
        "  preX[i]=pad_sequences(preX[i],truncating='pre',padding='post',maxlen=max_length).tolist()"
      ],
      "execution_count": 0,
      "outputs": [
        {
          "output_type": "stream",
          "text": [
            "/usr/local/lib/python3.6/dist-packages/ipykernel_launcher.py:2: SettingWithCopyWarning: \n",
            "A value is trying to be set on a copy of a slice from a DataFrame.\n",
            "Try using .loc[row_indexer,col_indexer] = value instead\n",
            "\n",
            "See the caveats in the documentation: http://pandas.pydata.org/pandas-docs/stable/user_guide/indexing.html#returning-a-view-versus-a-copy\n",
            "  \n"
          ],
          "name": "stderr"
        }
      ]
    },
    {
      "cell_type": "markdown",
      "metadata": {
        "id": "VlM2YRin5qPt",
        "colab_type": "text"
      },
      "source": [
        "## **Converting into Numpy(PRE)**\n",
        "\n"
      ]
    },
    {
      "cell_type": "code",
      "metadata": {
        "id": "CAgJnX3r5Kpi",
        "colab_type": "code",
        "colab": {}
      },
      "source": [
        "def numpyer(X_train):\n",
        "  temp1=[]\n",
        "  temp2=[]\n",
        "  for _,j in X_train['Answer_n'].items(): \n",
        "    temp1.append(j)\n",
        "  temp1=np.array(temp1)\n",
        "  print(temp1.shape)\n",
        "  \n",
        "  for _,j in X_train['Correct_n'].items(): \n",
        "    temp2.append(j)\n",
        "  temp2=np.array(temp2)\n",
        "  print(temp2.shape)\n",
        "  return temp1,temp2"
      ],
      "execution_count": 0,
      "outputs": []
    },
    {
      "cell_type": "code",
      "metadata": {
        "id": "mmAdAcv05KnN",
        "colab_type": "code",
        "outputId": "a4b1b8a4-099d-440a-e4fc-63622221b6ad",
        "colab": {
          "base_uri": "https://localhost:8080/",
          "height": 51
        }
      },
      "source": [
        "temp1,temp2=numpyer(preX)"
      ],
      "execution_count": 0,
      "outputs": [
        {
          "output_type": "stream",
          "text": [
            "(19680, 25)\n",
            "(19680, 25)\n"
          ],
          "name": "stdout"
        }
      ]
    },
    {
      "cell_type": "code",
      "metadata": {
        "id": "9soh9tnA5KlR",
        "colab_type": "code",
        "outputId": "167c6563-1c9e-4a05-f564-05982fd59918",
        "colab": {
          "base_uri": "https://localhost:8080/",
          "height": 204
        }
      },
      "source": [
        "preX.head()"
      ],
      "execution_count": 0,
      "outputs": [
        {
          "output_type": "execute_result",
          "data": {
            "text/html": [
              "<div>\n",
              "<style scoped>\n",
              "    .dataframe tbody tr th:only-of-type {\n",
              "        vertical-align: middle;\n",
              "    }\n",
              "\n",
              "    .dataframe tbody tr th {\n",
              "        vertical-align: top;\n",
              "    }\n",
              "\n",
              "    .dataframe thead th {\n",
              "        text-align: right;\n",
              "    }\n",
              "</style>\n",
              "<table border=\"1\" class=\"dataframe\">\n",
              "  <thead>\n",
              "    <tr style=\"text-align: right;\">\n",
              "      <th></th>\n",
              "      <th>Answer_n</th>\n",
              "      <th>Correct_n</th>\n",
              "    </tr>\n",
              "  </thead>\n",
              "  <tbody>\n",
              "    <tr>\n",
              "      <th>0</th>\n",
              "      <td>[506, 507, 508, 509, 510, 511, 512, 513, 0, 0,...</td>\n",
              "      <td>[506, 514, 508, 509, 511, 513, 0, 0, 0, 0, 0, ...</td>\n",
              "    </tr>\n",
              "    <tr>\n",
              "      <th>1</th>\n",
              "      <td>[506, 514, 508, 515, 511, 512, 513, 0, 0, 0, 0...</td>\n",
              "      <td>[506, 514, 508, 509, 511, 513, 0, 0, 0, 0, 0, ...</td>\n",
              "    </tr>\n",
              "    <tr>\n",
              "      <th>2</th>\n",
              "      <td>[516, 517, 508, 518, 511, 519, 520, 0, 0, 0, 0...</td>\n",
              "      <td>[514, 508, 518, 511, 521, 520, 0, 0, 0, 0, 0, ...</td>\n",
              "    </tr>\n",
              "    <tr>\n",
              "      <th>3</th>\n",
              "      <td>[516, 517, 508, 518, 511, 519, 520, 0, 0, 0, 0...</td>\n",
              "      <td>[514, 508, 518, 511, 521, 520, 0, 0, 0, 0, 0, ...</td>\n",
              "    </tr>\n",
              "    <tr>\n",
              "      <th>4</th>\n",
              "      <td>[507, 508, 518, 522, 511, 523, 0, 0, 0, 0, 0, ...</td>\n",
              "      <td>[506, 514, 508, 509, 511, 513, 0, 0, 0, 0, 0, ...</td>\n",
              "    </tr>\n",
              "  </tbody>\n",
              "</table>\n",
              "</div>"
            ],
            "text/plain": [
              "                                            Answer_n                                          Correct_n\n",
              "0  [506, 507, 508, 509, 510, 511, 512, 513, 0, 0,...  [506, 514, 508, 509, 511, 513, 0, 0, 0, 0, 0, ...\n",
              "1  [506, 514, 508, 515, 511, 512, 513, 0, 0, 0, 0...  [506, 514, 508, 509, 511, 513, 0, 0, 0, 0, 0, ...\n",
              "2  [516, 517, 508, 518, 511, 519, 520, 0, 0, 0, 0...  [514, 508, 518, 511, 521, 520, 0, 0, 0, 0, 0, ...\n",
              "3  [516, 517, 508, 518, 511, 519, 520, 0, 0, 0, 0...  [514, 508, 518, 511, 521, 520, 0, 0, 0, 0, 0, ...\n",
              "4  [507, 508, 518, 522, 511, 523, 0, 0, 0, 0, 0, ...  [506, 514, 508, 509, 511, 513, 0, 0, 0, 0, 0, ..."
            ]
          },
          "metadata": {
            "tags": []
          },
          "execution_count": 45
        }
      ]
    },
    {
      "cell_type": "code",
      "metadata": {
        "id": "xg4-65UC5Ki3",
        "colab_type": "code",
        "colab": {}
      },
      "source": [
        "pre_Y=preY.values"
      ],
      "execution_count": 0,
      "outputs": []
    },
    {
      "cell_type": "markdown",
      "metadata": {
        "id": "His0FWLpotu1",
        "colab_type": "text"
      },
      "source": [
        "# **Building**"
      ]
    },
    {
      "cell_type": "markdown",
      "metadata": {
        "id": "K2BY-baxjjKs",
        "colab_type": "text"
      },
      "source": [
        "## **building Model(LSTM)**"
      ]
    },
    {
      "cell_type": "code",
      "metadata": {
        "id": "7cDl8BvqGPLK",
        "colab_type": "code",
        "colab": {}
      },
      "source": [
        "class MALSTM():\n",
        "  def __init__(self,n_hidden,embedding_dim,embedding):  \n",
        "    self.n_hidden=n_hidden\n",
        "    self.embed_layer=Embedding(embedding.shape[0],embedding_dim,weights=[embedding],trainable=True,mask_zero=True)\n",
        "    self.shared_LSTM=LSTM(n_hidden,use_bias=True,dropout=0.3)\n",
        "  def man_dist(self,inputs):\n",
        "    x1,x2=inputs\n",
        "    \n",
        "    return K.clip(K.exp(-K.sum(K.abs(x1-x2),axis=1,keepdims=True))*5,0,5)\n",
        "   \n",
        "   \n",
        "      \n",
        "  \n",
        "  \n",
        "  def model(self,max_length):\n",
        "    input1=Input(shape=(max_length,),dtype='int32')\n",
        "    input2=Input(shape=(max_length,),dtype='int32')\n",
        "    embed1=self.embed_layer(input1)\n",
        "    embed2=self.embed_layer(input2)\n",
        "    output1=self.shared_LSTM(embed1)\n",
        "    output2=self.shared_LSTM(embed2)\n",
        "    mal_distance=Lambda(self.man_dist)([output1,output2])\n",
        "    models=Model(inputs=[input1,input2],outputs=mal_distance)\n",
        "    return models"
      ],
      "execution_count": 0,
      "outputs": []
    },
    {
      "cell_type": "code",
      "metadata": {
        "id": "jCmbGvBN6yog",
        "colab_type": "code",
        "outputId": "3162adf8-7370-4b93-ce7b-7b6d30d85189",
        "colab": {
          "base_uri": "https://localhost:8080/",
          "height": 70
        }
      },
      "source": [
        "\n",
        "\n",
        "obj=MALSTM(25,300,embedding)\n"
      ],
      "execution_count": 0,
      "outputs": [
        {
          "output_type": "stream",
          "text": [
            "WARNING:tensorflow:From /usr/local/lib/python3.6/dist-packages/keras/backend/tensorflow_backend.py:66: The name tf.get_default_graph is deprecated. Please use tf.compat.v1.get_default_graph instead.\n",
            "\n"
          ],
          "name": "stdout"
        }
      ]
    },
    {
      "cell_type": "code",
      "metadata": {
        "id": "JTlZlOW-PDiN",
        "colab_type": "code",
        "outputId": "4d0cddce-c463-48e7-ae88-9365f56d845b",
        "colab": {
          "base_uri": "https://localhost:8080/",
          "height": 440
        }
      },
      "source": [
        "models=obj.model(max_length)"
      ],
      "execution_count": 0,
      "outputs": [
        {
          "output_type": "stream",
          "text": [
            "WARNING:tensorflow:From /usr/local/lib/python3.6/dist-packages/keras/backend/tensorflow_backend.py:541: The name tf.placeholder is deprecated. Please use tf.compat.v1.placeholder instead.\n",
            "\n",
            "WARNING:tensorflow:From /usr/local/lib/python3.6/dist-packages/keras/backend/tensorflow_backend.py:4432: The name tf.random_uniform is deprecated. Please use tf.random.uniform instead.\n",
            "\n",
            "WARNING:tensorflow:From /usr/local/lib/python3.6/dist-packages/keras/backend/tensorflow_backend.py:190: The name tf.get_default_session is deprecated. Please use tf.compat.v1.get_default_session instead.\n",
            "\n",
            "WARNING:tensorflow:From /usr/local/lib/python3.6/dist-packages/keras/backend/tensorflow_backend.py:197: The name tf.ConfigProto is deprecated. Please use tf.compat.v1.ConfigProto instead.\n",
            "\n",
            "WARNING:tensorflow:From /usr/local/lib/python3.6/dist-packages/keras/backend/tensorflow_backend.py:203: The name tf.Session is deprecated. Please use tf.compat.v1.Session instead.\n",
            "\n",
            "WARNING:tensorflow:From /usr/local/lib/python3.6/dist-packages/keras/backend/tensorflow_backend.py:207: The name tf.global_variables is deprecated. Please use tf.compat.v1.global_variables instead.\n",
            "\n",
            "WARNING:tensorflow:From /usr/local/lib/python3.6/dist-packages/keras/backend/tensorflow_backend.py:216: The name tf.is_variable_initialized is deprecated. Please use tf.compat.v1.is_variable_initialized instead.\n",
            "\n",
            "WARNING:tensorflow:From /usr/local/lib/python3.6/dist-packages/keras/backend/tensorflow_backend.py:223: The name tf.variables_initializer is deprecated. Please use tf.compat.v1.variables_initializer instead.\n",
            "\n",
            "WARNING:tensorflow:From /usr/local/lib/python3.6/dist-packages/keras/backend/tensorflow_backend.py:148: The name tf.placeholder_with_default is deprecated. Please use tf.compat.v1.placeholder_with_default instead.\n",
            "\n",
            "WARNING:tensorflow:From /usr/local/lib/python3.6/dist-packages/keras/backend/tensorflow_backend.py:3733: calling dropout (from tensorflow.python.ops.nn_ops) with keep_prob is deprecated and will be removed in a future version.\n",
            "Instructions for updating:\n",
            "Please use `rate` instead of `keep_prob`. Rate should be set to `rate = 1 - keep_prob`.\n",
            "WARNING:tensorflow:From /usr/local/lib/python3.6/dist-packages/keras/backend/tensorflow_backend.py:3239: where (from tensorflow.python.ops.array_ops) is deprecated and will be removed in a future version.\n",
            "Instructions for updating:\n",
            "Use tf.where in 2.0, which has the same broadcast rule as np.where\n"
          ],
          "name": "stdout"
        }
      ]
    },
    {
      "cell_type": "code",
      "metadata": {
        "colab_type": "code",
        "outputId": "1dfa27b2-946c-443c-c768-072c66041063",
        "id": "BaDa1O_4KVu3",
        "colab": {
          "base_uri": "https://localhost:8080/",
          "height": 370
        }
      },
      "source": [
        "models.summary()"
      ],
      "execution_count": 0,
      "outputs": [
        {
          "output_type": "stream",
          "text": [
            "Model: \"model_1\"\n",
            "__________________________________________________________________________________________________\n",
            "Layer (type)                    Output Shape         Param #     Connected to                     \n",
            "==================================================================================================\n",
            "input_1 (InputLayer)            (None, 25)           0                                            \n",
            "__________________________________________________________________________________________________\n",
            "input_2 (InputLayer)            (None, 25)           0                                            \n",
            "__________________________________________________________________________________________________\n",
            "embedding_1 (Embedding)         (None, 25, 300)      897900      input_1[0][0]                    \n",
            "                                                                 input_2[0][0]                    \n",
            "__________________________________________________________________________________________________\n",
            "lstm_1 (LSTM)                   (None, 25)           32600       embedding_1[0][0]                \n",
            "                                                                 embedding_1[1][0]                \n",
            "__________________________________________________________________________________________________\n",
            "lambda_1 (Lambda)               (None, 1)            0           lstm_1[0][0]                     \n",
            "                                                                 lstm_1[1][0]                     \n",
            "==================================================================================================\n",
            "Total params: 930,500\n",
            "Trainable params: 930,500\n",
            "Non-trainable params: 0\n",
            "__________________________________________________________________________________________________\n"
          ],
          "name": "stdout"
        }
      ]
    },
    {
      "cell_type": "markdown",
      "metadata": {
        "id": "UR4gtQmupPMv",
        "colab_type": "text"
      },
      "source": [
        "## **Building Model(bidirectional)**"
      ]
    },
    {
      "cell_type": "code",
      "metadata": {
        "id": "DV-J48XnpM4Y",
        "colab_type": "code",
        "colab": {}
      },
      "source": [
        "class BILSTM():\n",
        "  def __init__(self,n_hidden,embedding_dim,embedding):\n",
        "    self.n_hidden=n_hidden\n",
        "    self.embed_layer=Embedding(embedding.shape[0],embedding_dim,weights=[embedding],trainable=True,mask_zero=True)\n",
        "    self.shared_bi=Bidirectional(LSTM(self.n_hidden,dropout=0.3))\n",
        "  def man_dist(self,inputs):\n",
        "    x1,x2=inputs\n",
        "    return  K.clip(K.exp(-K.sum(K.abs(x1-x2),axis=1,keepdims=True))*5,0,5)\n",
        "  \n",
        "  \n",
        "  def model(self,max_length):\n",
        "    input1=Input(shape=(max_length,),dtype='int32')\n",
        "    input2=Input(shape=(max_length,),dtype='int32')\n",
        "    embed1=self.embed_layer(input1)\n",
        "    embed2=self.embed_layer(input2)\n",
        "    output1=self.shared_bi(embed1)\n",
        "    output2=self.shared_bi(embed2)\n",
        "    mal_distance=Lambda(self.man_dist)([output1,output2])\n",
        "    models=Model(inputs=[input1,input2],outputs=mal_distance)\n",
        "    return models\n",
        "  "
      ],
      "execution_count": 0,
      "outputs": []
    },
    {
      "cell_type": "code",
      "metadata": {
        "id": "pHJKctURpM13",
        "colab_type": "code",
        "colab": {}
      },
      "source": [
        "obj_bi=BILSTM(25,300,embedding)"
      ],
      "execution_count": 0,
      "outputs": []
    },
    {
      "cell_type": "code",
      "metadata": {
        "id": "CKeVOv2ppMzg",
        "colab_type": "code",
        "colab": {}
      },
      "source": [
        "model_bi=obj_bi.model(max_length)"
      ],
      "execution_count": 0,
      "outputs": []
    },
    {
      "cell_type": "code",
      "metadata": {
        "id": "-1yqLFjApMwg",
        "colab_type": "code",
        "outputId": "3e4f1952-d19b-41c1-ffef-2e7814a0abc8",
        "colab": {
          "base_uri": "https://localhost:8080/",
          "height": 370
        }
      },
      "source": [
        "model_bi.summary()"
      ],
      "execution_count": 0,
      "outputs": [
        {
          "output_type": "stream",
          "text": [
            "Model: \"model_2\"\n",
            "__________________________________________________________________________________________________\n",
            "Layer (type)                    Output Shape         Param #     Connected to                     \n",
            "==================================================================================================\n",
            "input_3 (InputLayer)            (None, 25)           0                                            \n",
            "__________________________________________________________________________________________________\n",
            "input_4 (InputLayer)            (None, 25)           0                                            \n",
            "__________________________________________________________________________________________________\n",
            "embedding_2 (Embedding)         (None, 25, 300)      897900      input_3[0][0]                    \n",
            "                                                                 input_4[0][0]                    \n",
            "__________________________________________________________________________________________________\n",
            "bidirectional_1 (Bidirectional) (None, 50)           65200       embedding_2[0][0]                \n",
            "                                                                 embedding_2[1][0]                \n",
            "__________________________________________________________________________________________________\n",
            "lambda_2 (Lambda)               (None, 1)            0           bidirectional_1[0][0]            \n",
            "                                                                 bidirectional_1[1][0]            \n",
            "==================================================================================================\n",
            "Total params: 963,100\n",
            "Trainable params: 963,100\n",
            "Non-trainable params: 0\n",
            "__________________________________________________________________________________________________\n"
          ],
          "name": "stdout"
        }
      ]
    },
    {
      "cell_type": "markdown",
      "metadata": {
        "id": "8MISu9YAmOic",
        "colab_type": "text"
      },
      "source": [
        "## **Building Model(stack LSTM)**"
      ]
    },
    {
      "cell_type": "code",
      "metadata": {
        "id": "8LiklMZpc5jT",
        "colab_type": "code",
        "colab": {}
      },
      "source": [
        "class STACKLSTM():\n",
        "  def __init__(self,n_hidden,embedding_dim,embedding):\n",
        "    self.n_hidden=n_hidden\n",
        "    self.embed_layer=Embedding(embedding.shape[0],embedding_dim,weights=[embedding],trainable=True,mask_zero=True)\n",
        "    self.shared_LSTM1=LSTM(n_hidden,use_bias=True,return_sequences=True)\n",
        "    self.shared_LSTM2=LSTM(n_hidden,use_bias=True,dropout=0.3)\n",
        "  def man_dist(self,inputs):\n",
        "    x1,x2=inputs\n",
        "    return  K.clip(K.exp(-K.sum(K.abs(x1-x2),axis=1,keepdims=True))*5,0,5)\n",
        "  \n",
        "  \n",
        "  def model(self,max_length):\n",
        "    input1=Input(shape=(max_length,),dtype='int32')\n",
        "    input2=Input(shape=(max_length,),dtype='int32')\n",
        "    embed1=self.embed_layer(input1)\n",
        "    embed2=self.embed_layer(input2)\n",
        "    hid1=self.shared_LSTM1(embed1)\n",
        "    output1=self.shared_LSTM2(hid1)\n",
        "    \n",
        "    hid2=self.shared_LSTM1(embed2)\n",
        "    output2=self.shared_LSTM2(hid2)\n",
        "    \n",
        "    mal_distance=Lambda(self.man_dist)([output1,output2])\n",
        "    models=Model(inputs=[input1,input2],outputs=mal_distance)\n",
        "    return models"
      ],
      "execution_count": 0,
      "outputs": []
    },
    {
      "cell_type": "code",
      "metadata": {
        "id": "zLHAKw8gc5fN",
        "colab_type": "code",
        "colab": {}
      },
      "source": [
        "stacked=STACKLSTM(25,300,embedding)"
      ],
      "execution_count": 0,
      "outputs": []
    },
    {
      "cell_type": "code",
      "metadata": {
        "id": "NUtMJ8Uac5bV",
        "colab_type": "code",
        "colab": {}
      },
      "source": [
        "model_stack=stacked.model(max_length)"
      ],
      "execution_count": 0,
      "outputs": []
    },
    {
      "cell_type": "code",
      "metadata": {
        "id": "3LMnmiRFnPUI",
        "colab_type": "code",
        "outputId": "2a127016-3ead-414f-a068-84160fb89af3",
        "colab": {
          "base_uri": "https://localhost:8080/",
          "height": 420
        }
      },
      "source": [
        "model_stack.summary()"
      ],
      "execution_count": 0,
      "outputs": [
        {
          "output_type": "stream",
          "text": [
            "Model: \"model_3\"\n",
            "__________________________________________________________________________________________________\n",
            "Layer (type)                    Output Shape         Param #     Connected to                     \n",
            "==================================================================================================\n",
            "input_5 (InputLayer)            (None, 25)           0                                            \n",
            "__________________________________________________________________________________________________\n",
            "input_6 (InputLayer)            (None, 25)           0                                            \n",
            "__________________________________________________________________________________________________\n",
            "embedding_3 (Embedding)         (None, 25, 300)      897900      input_5[0][0]                    \n",
            "                                                                 input_6[0][0]                    \n",
            "__________________________________________________________________________________________________\n",
            "lstm_3 (LSTM)                   (None, 25, 25)       32600       embedding_3[0][0]                \n",
            "                                                                 embedding_3[1][0]                \n",
            "__________________________________________________________________________________________________\n",
            "lstm_4 (LSTM)                   (None, 25)           5100        lstm_3[0][0]                     \n",
            "                                                                 lstm_3[1][0]                     \n",
            "__________________________________________________________________________________________________\n",
            "lambda_3 (Lambda)               (None, 1)            0           lstm_4[0][0]                     \n",
            "                                                                 lstm_4[1][0]                     \n",
            "==================================================================================================\n",
            "Total params: 935,600\n",
            "Trainable params: 935,600\n",
            "Non-trainable params: 0\n",
            "__________________________________________________________________________________________________\n"
          ],
          "name": "stdout"
        }
      ]
    },
    {
      "cell_type": "markdown",
      "metadata": {
        "id": "uCXqIq6p2Qru",
        "colab_type": "text"
      },
      "source": [
        "# **Seq2Seq**"
      ]
    },
    {
      "cell_type": "code",
      "metadata": {
        "id": "LwwmX9zY4J3R",
        "colab_type": "code",
        "colab": {}
      },
      "source": [
        "np.random.seed(123)\n",
        "import keras\n",
        "from keras.utils.np_utils import to_categorical # used for converting labels to one-hot-encoding\n",
        "from keras.models import Sequential\n",
        "from keras.layers import Dense, Dropout,Input,Average,ReLU,Lambda,Add,Flatten,Concatenate,Multiply,Activation,LSTM,Embedding\n",
        "from keras import backend as K\n",
        "from keras.layers.normalization import BatchNormalization\n",
        "from keras.optimizers import SGD\n",
        "from keras.callbacks import LearningRateScheduler, ModelCheckpoint \n",
        "from keras.optimizers import Adam\n",
        "from sklearn.model_selection import train_test_split\n",
        "from keras.optimizers import RMSprop\n",
        "from keras import regularizers\n",
        "from keras.models import Model"
      ],
      "execution_count": 0,
      "outputs": []
    },
    {
      "cell_type": "code",
      "metadata": {
        "id": "sUDoOcwR2QIQ",
        "colab_type": "code",
        "colab": {}
      },
      "source": [
        "def seq2seq(input_length,embedding_dim,embedding,hidden_dim):\n",
        "  en_inp = Input(shape=(input_length,),dtype='int32')\n",
        "  embed1 = Embedding(embedding.shape[0],embedding_dim,weights=[embedding],trainable=False)(en_inp)\n",
        "  Lstm1 = LSTM(hidden_dim,return_state = True)\n",
        "  en_out,state_a,state_c = Lstm1(embed1)\n",
        "\n",
        "  de_inp = Input(shape=(input_length,),dtype='int32')\n",
        "  embed2 = Embedding(embedding.shape[0],embedding_dim,weights=[embedding],trainable=False)(de_inp)\n",
        "  Lstm2 = LSTM(hidden_dim,return_state = True)\n",
        "  de_out,_,_ = Lstm2(embed2,initial_state = [state_a,state_c])\n",
        "  \n",
        "  output = Dense(150,activation = 'tanh')(de_out)\n",
        "  output = Dense(1,activation = 'sigmoid')(output)\n",
        "  output = Lambda(lambda x: x*5)(output)\n",
        "  return Model([en_inp,de_inp],output)\n",
        "\n",
        "\n"
      ],
      "execution_count": 0,
      "outputs": []
    },
    {
      "cell_type": "code",
      "metadata": {
        "id": "KQ48Qsab2QFw",
        "colab_type": "code",
        "outputId": "a85324c3-89e1-4298-85d6-c399a96a843f",
        "colab": {
          "base_uri": "https://localhost:8080/",
          "height": 323
        }
      },
      "source": [
        "model = seq2seq(max_length,300,embedding,25)"
      ],
      "execution_count": 0,
      "outputs": [
        {
          "output_type": "stream",
          "text": [
            "WARNING:tensorflow:From /usr/local/lib/python3.6/dist-packages/keras/backend/tensorflow_backend.py:66: The name tf.get_default_graph is deprecated. Please use tf.compat.v1.get_default_graph instead.\n",
            "\n",
            "WARNING:tensorflow:From /usr/local/lib/python3.6/dist-packages/keras/backend/tensorflow_backend.py:541: The name tf.placeholder is deprecated. Please use tf.compat.v1.placeholder instead.\n",
            "\n",
            "WARNING:tensorflow:From /usr/local/lib/python3.6/dist-packages/keras/backend/tensorflow_backend.py:4432: The name tf.random_uniform is deprecated. Please use tf.random.uniform instead.\n",
            "\n",
            "WARNING:tensorflow:From /usr/local/lib/python3.6/dist-packages/keras/backend/tensorflow_backend.py:190: The name tf.get_default_session is deprecated. Please use tf.compat.v1.get_default_session instead.\n",
            "\n",
            "WARNING:tensorflow:From /usr/local/lib/python3.6/dist-packages/keras/backend/tensorflow_backend.py:197: The name tf.ConfigProto is deprecated. Please use tf.compat.v1.ConfigProto instead.\n",
            "\n",
            "WARNING:tensorflow:From /usr/local/lib/python3.6/dist-packages/keras/backend/tensorflow_backend.py:203: The name tf.Session is deprecated. Please use tf.compat.v1.Session instead.\n",
            "\n",
            "WARNING:tensorflow:From /usr/local/lib/python3.6/dist-packages/keras/backend/tensorflow_backend.py:207: The name tf.global_variables is deprecated. Please use tf.compat.v1.global_variables instead.\n",
            "\n",
            "WARNING:tensorflow:From /usr/local/lib/python3.6/dist-packages/keras/backend/tensorflow_backend.py:216: The name tf.is_variable_initialized is deprecated. Please use tf.compat.v1.is_variable_initialized instead.\n",
            "\n",
            "WARNING:tensorflow:From /usr/local/lib/python3.6/dist-packages/keras/backend/tensorflow_backend.py:223: The name tf.variables_initializer is deprecated. Please use tf.compat.v1.variables_initializer instead.\n",
            "\n"
          ],
          "name": "stdout"
        }
      ]
    },
    {
      "cell_type": "code",
      "metadata": {
        "id": "CTkWXelp2QDr",
        "colab_type": "code",
        "outputId": "23050a0e-d86d-4b43-8cfa-d2bda7991174",
        "colab": {
          "base_uri": "https://localhost:8080/",
          "height": 493
        }
      },
      "source": [
        "model.summary()"
      ],
      "execution_count": 0,
      "outputs": [
        {
          "output_type": "stream",
          "text": [
            "Model: \"model_1\"\n",
            "__________________________________________________________________________________________________\n",
            "Layer (type)                    Output Shape         Param #     Connected to                     \n",
            "==================================================================================================\n",
            "input_1 (InputLayer)            (None, 25)           0                                            \n",
            "__________________________________________________________________________________________________\n",
            "input_2 (InputLayer)            (None, 25)           0                                            \n",
            "__________________________________________________________________________________________________\n",
            "embedding_1 (Embedding)         (None, 25, 300)      897900      input_1[0][0]                    \n",
            "__________________________________________________________________________________________________\n",
            "embedding_2 (Embedding)         (None, 25, 300)      897900      input_2[0][0]                    \n",
            "__________________________________________________________________________________________________\n",
            "lstm_1 (LSTM)                   [(None, 25), (None,  32600       embedding_1[0][0]                \n",
            "__________________________________________________________________________________________________\n",
            "lstm_2 (LSTM)                   [(None, 25), (None,  32600       embedding_2[0][0]                \n",
            "                                                                 lstm_1[0][1]                     \n",
            "                                                                 lstm_1[0][2]                     \n",
            "__________________________________________________________________________________________________\n",
            "dense_1 (Dense)                 (None, 150)          3900        lstm_2[0][0]                     \n",
            "__________________________________________________________________________________________________\n",
            "dense_2 (Dense)                 (None, 1)            151         dense_1[0][0]                    \n",
            "__________________________________________________________________________________________________\n",
            "lambda_1 (Lambda)               (None, 1)            0           dense_2[0][0]                    \n",
            "==================================================================================================\n",
            "Total params: 1,865,051\n",
            "Trainable params: 69,251\n",
            "Non-trainable params: 1,795,800\n",
            "__________________________________________________________________________________________________\n"
          ],
          "name": "stdout"
        }
      ]
    },
    {
      "cell_type": "code",
      "metadata": {
        "id": "CEMkltIo2QBf",
        "colab_type": "code",
        "outputId": "955f7b55-ce4a-4476-a8f8-fad8265578b4",
        "colab": {
          "base_uri": "https://localhost:8080/",
          "height": 51
        }
      },
      "source": [
        "model.compile(optimizer='adam',loss='mse',metrics=[acc1,pearson])"
      ],
      "execution_count": 0,
      "outputs": [
        {
          "output_type": "stream",
          "text": [
            "WARNING:tensorflow:From /usr/local/lib/python3.6/dist-packages/keras/optimizers.py:793: The name tf.train.Optimizer is deprecated. Please use tf.compat.v1.train.Optimizer instead.\n",
            "\n"
          ],
          "name": "stdout"
        }
      ]
    },
    {
      "cell_type": "code",
      "metadata": {
        "id": "jwNtpeY82P-d",
        "colab_type": "code",
        "outputId": "921a6bb8-57bb-4fad-82b0-4d708685329b",
        "colab": {
          "base_uri": "https://localhost:8080/",
          "height": 1000
        }
      },
      "source": [
        "his = model.fit([temp1,temp2],pre_Y,batch_size=64,epochs = 50,validation_split = 0.2)"
      ],
      "execution_count": 0,
      "outputs": [
        {
          "output_type": "stream",
          "text": [
            "WARNING:tensorflow:From /usr/local/lib/python3.6/dist-packages/tensorflow_core/python/ops/math_grad.py:1424: where (from tensorflow.python.ops.array_ops) is deprecated and will be removed in a future version.\n",
            "Instructions for updating:\n",
            "Use tf.where in 2.0, which has the same broadcast rule as np.where\n",
            "WARNING:tensorflow:From /usr/local/lib/python3.6/dist-packages/keras/backend/tensorflow_backend.py:1033: The name tf.assign_add is deprecated. Please use tf.compat.v1.assign_add instead.\n",
            "\n",
            "WARNING:tensorflow:From /usr/local/lib/python3.6/dist-packages/keras/backend/tensorflow_backend.py:1020: The name tf.assign is deprecated. Please use tf.compat.v1.assign instead.\n",
            "\n",
            "Train on 15744 samples, validate on 3936 samples\n",
            "Epoch 1/50\n",
            "15744/15744 [==============================] - 18s 1ms/step - loss: 1.0974 - acc1: 0.6566 - pearson: 0.0742 - val_loss: 0.9340 - val_acc1: 0.6870 - val_pearson: 0.0496\n",
            "Epoch 2/50\n",
            "15744/15744 [==============================] - 16s 991us/step - loss: 1.0428 - acc1: 0.6609 - pearson: 0.1364 - val_loss: 0.9236 - val_acc1: 0.6910 - val_pearson: 0.0729\n",
            "Epoch 3/50\n",
            "15744/15744 [==============================] - 16s 1ms/step - loss: 1.0014 - acc1: 0.6734 - pearson: 0.2287 - val_loss: 0.9105 - val_acc1: 0.6918 - val_pearson: 0.0970\n",
            "Epoch 4/50\n",
            "15744/15744 [==============================] - 16s 1ms/step - loss: 0.9724 - acc1: 0.6818 - pearson: 0.2744 - val_loss: 0.9095 - val_acc1: 0.6874 - val_pearson: 0.1104\n",
            "Epoch 5/50\n",
            "15744/15744 [==============================] - 16s 994us/step - loss: 0.9413 - acc1: 0.6908 - pearson: 0.3298 - val_loss: 0.8754 - val_acc1: 0.7058 - val_pearson: 0.1446\n",
            "Epoch 6/50\n",
            "15744/15744 [==============================] - 16s 1ms/step - loss: 0.9117 - acc1: 0.6992 - pearson: 0.3643 - val_loss: 0.8771 - val_acc1: 0.7038 - val_pearson: 0.1429\n",
            "Epoch 7/50\n",
            "15744/15744 [==============================] - 16s 1ms/step - loss: 0.8948 - acc1: 0.7040 - pearson: 0.3844 - val_loss: 0.8620 - val_acc1: 0.7042 - val_pearson: 0.1817\n",
            "Epoch 8/50\n",
            "15744/15744 [==============================] - 16s 1ms/step - loss: 0.8763 - acc1: 0.7094 - pearson: 0.4031 - val_loss: 0.8497 - val_acc1: 0.7109 - val_pearson: 0.1767\n",
            "Epoch 9/50\n",
            "15744/15744 [==============================] - 16s 999us/step - loss: 0.8630 - acc1: 0.7138 - pearson: 0.4248 - val_loss: 0.8660 - val_acc1: 0.7043 - val_pearson: 0.1955\n",
            "Epoch 10/50\n",
            "15744/15744 [==============================] - 16s 994us/step - loss: 0.8525 - acc1: 0.7161 - pearson: 0.4242 - val_loss: 0.8567 - val_acc1: 0.7051 - val_pearson: 0.1884\n",
            "Epoch 11/50\n",
            "15744/15744 [==============================] - 16s 1ms/step - loss: 0.8423 - acc1: 0.7192 - pearson: 0.4391 - val_loss: 0.8386 - val_acc1: 0.7160 - val_pearson: 0.1925\n",
            "Epoch 12/50\n",
            "15744/15744 [==============================] - 16s 1ms/step - loss: 0.8380 - acc1: 0.7204 - pearson: 0.4468 - val_loss: 0.8523 - val_acc1: 0.7095 - val_pearson: 0.2033\n",
            "Epoch 13/50\n",
            "15744/15744 [==============================] - 16s 999us/step - loss: 0.8249 - acc1: 0.7243 - pearson: 0.4565 - val_loss: 0.8419 - val_acc1: 0.7136 - val_pearson: 0.2002\n",
            "Epoch 14/50\n",
            "15744/15744 [==============================] - 16s 992us/step - loss: 0.8188 - acc1: 0.7256 - pearson: 0.4665 - val_loss: 0.8517 - val_acc1: 0.7084 - val_pearson: 0.2077\n",
            "Epoch 15/50\n",
            "15744/15744 [==============================] - 17s 1ms/step - loss: 0.8171 - acc1: 0.7260 - pearson: 0.4729 - val_loss: 0.8686 - val_acc1: 0.7121 - val_pearson: 0.2003\n",
            "Epoch 16/50\n",
            "15744/15744 [==============================] - 16s 1ms/step - loss: 0.8100 - acc1: 0.7280 - pearson: 0.4744 - val_loss: 0.8427 - val_acc1: 0.7089 - val_pearson: 0.2201\n",
            "Epoch 17/50\n",
            "15744/15744 [==============================] - 16s 988us/step - loss: 0.8014 - acc1: 0.7302 - pearson: 0.4846 - val_loss: 0.8529 - val_acc1: 0.7070 - val_pearson: 0.2106\n",
            "Epoch 18/50\n",
            "15744/15744 [==============================] - 16s 1ms/step - loss: 0.7914 - acc1: 0.7328 - pearson: 0.4877 - val_loss: 0.8264 - val_acc1: 0.7197 - val_pearson: 0.2185\n",
            "Epoch 19/50\n",
            "15744/15744 [==============================] - 16s 1ms/step - loss: 0.7886 - acc1: 0.7333 - pearson: 0.4976 - val_loss: 0.8370 - val_acc1: 0.7183 - val_pearson: 0.2195\n",
            "Epoch 20/50\n",
            "15744/15744 [==============================] - 16s 1000us/step - loss: 0.7879 - acc1: 0.7339 - pearson: 0.4997 - val_loss: 0.8258 - val_acc1: 0.7185 - val_pearson: 0.2270\n",
            "Epoch 21/50\n",
            "15744/15744 [==============================] - 16s 1ms/step - loss: 0.7766 - acc1: 0.7363 - pearson: 0.5026 - val_loss: 0.8430 - val_acc1: 0.7161 - val_pearson: 0.2320\n",
            "Epoch 22/50\n",
            "15744/15744 [==============================] - 16s 1ms/step - loss: 0.7711 - acc1: 0.7378 - pearson: 0.5090 - val_loss: 0.8385 - val_acc1: 0.7176 - val_pearson: 0.2329\n",
            "Epoch 23/50\n",
            "15744/15744 [==============================] - 16s 1ms/step - loss: 0.7706 - acc1: 0.7380 - pearson: 0.5121 - val_loss: 0.8287 - val_acc1: 0.7163 - val_pearson: 0.2286\n",
            "Epoch 24/50\n",
            "15744/15744 [==============================] - 16s 1ms/step - loss: 0.7640 - acc1: 0.7393 - pearson: 0.5236 - val_loss: 0.8439 - val_acc1: 0.7105 - val_pearson: 0.2322\n",
            "Epoch 25/50\n",
            "15744/15744 [==============================] - 16s 1000us/step - loss: 0.7610 - acc1: 0.7398 - pearson: 0.5229 - val_loss: 0.8350 - val_acc1: 0.7140 - val_pearson: 0.2420\n",
            "Epoch 26/50\n",
            "15744/15744 [==============================] - 16s 1ms/step - loss: 0.7545 - acc1: 0.7423 - pearson: 0.5293 - val_loss: 0.8266 - val_acc1: 0.7206 - val_pearson: 0.2336\n",
            "Epoch 27/50\n",
            "15744/15744 [==============================] - 16s 1ms/step - loss: 0.7504 - acc1: 0.7431 - pearson: 0.5268 - val_loss: 0.8214 - val_acc1: 0.7223 - val_pearson: 0.2460\n",
            "Epoch 28/50\n",
            "15744/15744 [==============================] - 16s 1ms/step - loss: 0.7460 - acc1: 0.7444 - pearson: 0.5327 - val_loss: 0.8207 - val_acc1: 0.7189 - val_pearson: 0.2384\n",
            "Epoch 29/50\n",
            "15744/15744 [==============================] - 16s 986us/step - loss: 0.7419 - acc1: 0.7451 - pearson: 0.5379 - val_loss: 0.8298 - val_acc1: 0.7136 - val_pearson: 0.2496\n",
            "Epoch 30/50\n",
            "15744/15744 [==============================] - 16s 1ms/step - loss: 0.7402 - acc1: 0.7456 - pearson: 0.5406 - val_loss: 0.8655 - val_acc1: 0.7087 - val_pearson: 0.2464\n",
            "Epoch 31/50\n",
            "15744/15744 [==============================] - 16s 1ms/step - loss: 0.7360 - acc1: 0.7471 - pearson: 0.5428 - val_loss: 0.8279 - val_acc1: 0.7183 - val_pearson: 0.2462\n",
            "Epoch 32/50\n",
            "15744/15744 [==============================] - 16s 1ms/step - loss: 0.7327 - acc1: 0.7472 - pearson: 0.5456 - val_loss: 0.8429 - val_acc1: 0.7153 - val_pearson: 0.2380\n",
            "Epoch 33/50\n",
            "15744/15744 [==============================] - 16s 1ms/step - loss: 0.7376 - acc1: 0.7464 - pearson: 0.5442 - val_loss: 0.8307 - val_acc1: 0.7174 - val_pearson: 0.2347\n",
            "Epoch 34/50\n",
            "15744/15744 [==============================] - 16s 1ms/step - loss: 0.7303 - acc1: 0.7485 - pearson: 0.5518 - val_loss: 0.8324 - val_acc1: 0.7164 - val_pearson: 0.2493\n",
            "Epoch 35/50\n",
            "15744/15744 [==============================] - 16s 1ms/step - loss: 0.7229 - acc1: 0.7500 - pearson: 0.5539 - val_loss: 0.8340 - val_acc1: 0.7156 - val_pearson: 0.2416\n",
            "Epoch 36/50\n",
            "15744/15744 [==============================] - 16s 1ms/step - loss: 0.7215 - acc1: 0.7507 - pearson: 0.5533 - val_loss: 0.8404 - val_acc1: 0.7163 - val_pearson: 0.2444\n",
            "Epoch 37/50\n",
            "15744/15744 [==============================] - 16s 1ms/step - loss: 0.7181 - acc1: 0.7514 - pearson: 0.5569 - val_loss: 0.8501 - val_acc1: 0.7160 - val_pearson: 0.2462\n",
            "Epoch 38/50\n",
            "15744/15744 [==============================] - 16s 1ms/step - loss: 0.7157 - acc1: 0.7519 - pearson: 0.5594 - val_loss: 0.8392 - val_acc1: 0.7187 - val_pearson: 0.2524\n",
            "Epoch 39/50\n",
            "15744/15744 [==============================] - 16s 1ms/step - loss: 0.7159 - acc1: 0.7519 - pearson: 0.5607 - val_loss: 0.8560 - val_acc1: 0.7097 - val_pearson: 0.2453\n",
            "Epoch 40/50\n",
            "15744/15744 [==============================] - 16s 998us/step - loss: 0.7131 - acc1: 0.7522 - pearson: 0.5665 - val_loss: 0.8320 - val_acc1: 0.7162 - val_pearson: 0.2481\n",
            "Epoch 41/50\n",
            "15744/15744 [==============================] - 16s 1ms/step - loss: 0.7101 - acc1: 0.7532 - pearson: 0.5644 - val_loss: 0.8330 - val_acc1: 0.7213 - val_pearson: 0.2515\n",
            "Epoch 42/50\n",
            "15744/15744 [==============================] - 16s 1ms/step - loss: 0.7072 - acc1: 0.7542 - pearson: 0.5678 - val_loss: 0.8235 - val_acc1: 0.7219 - val_pearson: 0.2518\n",
            "Epoch 43/50\n",
            "15744/15744 [==============================] - 16s 989us/step - loss: 0.7022 - acc1: 0.7554 - pearson: 0.5694 - val_loss: 0.8453 - val_acc1: 0.7160 - val_pearson: 0.2509\n",
            "Epoch 44/50\n",
            "15744/15744 [==============================] - 16s 988us/step - loss: 0.7028 - acc1: 0.7545 - pearson: 0.5646 - val_loss: 0.8700 - val_acc1: 0.7106 - val_pearson: 0.2493\n",
            "Epoch 45/50\n",
            "15744/15744 [==============================] - 16s 1ms/step - loss: 0.7020 - acc1: 0.7555 - pearson: 0.5718 - val_loss: 0.8499 - val_acc1: 0.7149 - val_pearson: 0.2473\n",
            "Epoch 46/50\n",
            "15744/15744 [==============================] - 16s 1ms/step - loss: 0.7058 - acc1: 0.7545 - pearson: 0.5703 - val_loss: 0.8458 - val_acc1: 0.7177 - val_pearson: 0.2425\n",
            "Epoch 47/50\n",
            "15744/15744 [==============================] - 16s 1ms/step - loss: 0.6972 - acc1: 0.7564 - pearson: 0.5736 - val_loss: 0.8585 - val_acc1: 0.7111 - val_pearson: 0.2527\n",
            "Epoch 48/50\n",
            "15744/15744 [==============================] - 16s 1ms/step - loss: 0.6972 - acc1: 0.7567 - pearson: 0.5724 - val_loss: 0.8474 - val_acc1: 0.7143 - val_pearson: 0.2533\n",
            "Epoch 49/50\n",
            "15744/15744 [==============================] - 16s 1ms/step - loss: 0.6957 - acc1: 0.7572 - pearson: 0.5807 - val_loss: 0.8219 - val_acc1: 0.7188 - val_pearson: 0.2398\n",
            "Epoch 50/50\n",
            "15744/15744 [==============================] - 16s 1ms/step - loss: 0.6938 - acc1: 0.7570 - pearson: 0.5766 - val_loss: 0.8491 - val_acc1: 0.7194 - val_pearson: 0.2499\n"
          ],
          "name": "stdout"
        }
      ]
    },
    {
      "cell_type": "code",
      "metadata": {
        "id": "56XoSrTz2P65",
        "colab_type": "code",
        "colab": {}
      },
      "source": [
        "pt = plotting(his)"
      ],
      "execution_count": 0,
      "outputs": []
    },
    {
      "cell_type": "code",
      "metadata": {
        "id": "lwfug8Rj2P4m",
        "colab_type": "code",
        "outputId": "9cbe5149-b3c1-4531-80be-c7da0e0ddfef",
        "colab": {
          "base_uri": "https://localhost:8080/",
          "height": 295
        }
      },
      "source": [
        "pt.accPlot()"
      ],
      "execution_count": 0,
      "outputs": [
        {
          "output_type": "display_data",
          "data": {
            "image/png": "[encoded data removed]",
            "text/plain": [
              "<Figure size 432x288 with 1 Axes>"
            ]
          },
          "metadata": {
            "tags": []
          }
        }
      ]
    },
    {
      "cell_type": "code",
      "metadata": {
        "id": "XInj6DaE2P1x",
        "colab_type": "code",
        "outputId": "eb8057b4-529f-47c1-cdd8-1c66f57cf770",
        "colab": {
          "base_uri": "https://localhost:8080/",
          "height": 295
        }
      },
      "source": [
        "pt.lossPlot()"
      ],
      "execution_count": 0,
      "outputs": [
        {
          "output_type": "display_data",
          "data": {
            "image/png": "[encoded data removed]",
            "text/plain": [
              "<Figure size 432x288 with 1 Axes>"
            ]
          },
          "metadata": {
            "tags": []
          }
        }
      ]
    },
    {
      "cell_type": "code",
      "metadata": {
        "id": "pxJyhIWq2Pzu",
        "colab_type": "code",
        "colab": {}
      },
      "source": [
        ""
      ],
      "execution_count": 0,
      "outputs": []
    },
    {
      "cell_type": "code",
      "metadata": {
        "id": "PUHDHCi72PwY",
        "colab_type": "code",
        "colab": {}
      },
      "source": [
        ""
      ],
      "execution_count": 0,
      "outputs": []
    },
    {
      "cell_type": "markdown",
      "metadata": {
        "id": "2kAYv_vcjnOe",
        "colab_type": "text"
      },
      "source": [
        "# **training**"
      ]
    },
    {
      "cell_type": "code",
      "metadata": {
        "id": "XG3dLyhEcvf-",
        "colab_type": "code",
        "colab": {}
      },
      "source": [
        "def pearson(y,y_pred):\n",
        "  return (K.mean(y_pred*y)-K.mean(y_pred)*K.mean(y))/(K.std(y_pred)*K.std(y))"
      ],
      "execution_count": 0,
      "outputs": []
    },
    {
      "cell_type": "code",
      "metadata": {
        "id": "AJP5OPaUF49C",
        "colab_type": "code",
        "colab": {}
      },
      "source": [
        "def acc1(y,y_pred):\n",
        "  return 1-K.mean(K.abs(y-y_pred)/(y))\n",
        "  "
      ],
      "execution_count": 0,
      "outputs": []
    },
    {
      "cell_type": "code",
      "metadata": {
        "id": "TGoWSmjfX8UX",
        "colab_type": "code",
        "outputId": "88acb8fa-2b46-4425-92e0-aa98dc2eea43",
        "colab": {
          "base_uri": "https://localhost:8080/",
          "height": 34
        }
      },
      "source": [
        "print(temp1.shape,temp2.shape)"
      ],
      "execution_count": 0,
      "outputs": [
        {
          "output_type": "stream",
          "text": [
            "(19680, 25) (19680, 25)\n"
          ],
          "name": "stdout"
        }
      ]
    },
    {
      "cell_type": "markdown",
      "metadata": {
        "id": "gUTfMilgoZTC",
        "colab_type": "text"
      },
      "source": [
        "## **training(LSTM)**"
      ]
    },
    {
      "cell_type": "code",
      "metadata": {
        "id": "yRmJHvT7mFzB",
        "colab_type": "code",
        "colab": {}
      },
      "source": [
        "bs=64"
      ],
      "execution_count": 0,
      "outputs": []
    },
    {
      "cell_type": "code",
      "metadata": {
        "id": "nRhNbG7bRSfi",
        "colab_type": "code",
        "outputId": "f27c1f8f-24df-43ec-a996-b9c4bde6b0bf",
        "colab": {
          "base_uri": "https://localhost:8080/",
          "height": 50
        }
      },
      "source": [
        "models.compile(optimizer=adam(),loss='mean_squared_error',metrics=[acc1,pearson])"
      ],
      "execution_count": 0,
      "outputs": [
        {
          "output_type": "stream",
          "text": [
            "WARNING:tensorflow:From /usr/local/lib/python3.6/dist-packages/keras/optimizers.py:793: The name tf.train.Optimizer is deprecated. Please use tf.compat.v1.train.Optimizer instead.\n",
            "\n"
          ],
          "name": "stdout"
        }
      ]
    },
    {
      "cell_type": "code",
      "metadata": {
        "id": "hIkVSU_fH0Ah",
        "colab_type": "code",
        "outputId": "002b59f2-da72-4733-cdcb-9f6b84f7deda",
        "colab": {
          "base_uri": "https://localhost:8080/",
          "height": 457
        }
      },
      "source": [
        "Hist=models.fit([temp1,temp2],pre_Y,bs,10,validation_split=0.2)"
      ],
      "execution_count": 0,
      "outputs": [
        {
          "output_type": "stream",
          "text": [
            "WARNING:tensorflow:From /usr/local/lib/python3.6/dist-packages/keras/backend/tensorflow_backend.py:1033: The name tf.assign_add is deprecated. Please use tf.compat.v1.assign_add instead.\n",
            "\n",
            "WARNING:tensorflow:From /usr/local/lib/python3.6/dist-packages/keras/backend/tensorflow_backend.py:1020: The name tf.assign is deprecated. Please use tf.compat.v1.assign instead.\n",
            "\n",
            "Train on 15744 samples, validate on 3936 samples\n",
            "Epoch 1/10\n",
            "15744/15744 [==============================] - 37s 2ms/step - loss: 2.2105 - acc1: 0.6049 - pearson: 0.1587 - val_loss: 1.7536 - val_acc1: 0.5713 - val_pearson: 0.2239\n",
            "Epoch 2/10\n",
            "15744/15744 [==============================] - 35s 2ms/step - loss: 1.1000 - acc1: 0.6842 - pearson: 0.2764 - val_loss: 1.6926 - val_acc1: 0.5830 - val_pearson: 0.2515\n",
            "Epoch 3/10\n",
            "15744/15744 [==============================] - 35s 2ms/step - loss: 1.0074 - acc1: 0.6978 - pearson: 0.3368 - val_loss: 1.6424 - val_acc1: 0.5945 - val_pearson: 0.2644\n",
            "Epoch 4/10\n",
            "15744/15744 [==============================] - 34s 2ms/step - loss: 0.9414 - acc1: 0.7101 - pearson: 0.3844 - val_loss: 1.6163 - val_acc1: 0.5979 - val_pearson: 0.2755\n",
            "Epoch 5/10\n",
            "15744/15744 [==============================] - 35s 2ms/step - loss: 0.9040 - acc1: 0.7144 - pearson: 0.4114 - val_loss: 1.5740 - val_acc1: 0.6053 - val_pearson: 0.2863\n",
            "Epoch 6/10\n",
            "15744/15744 [==============================] - 35s 2ms/step - loss: 0.8669 - acc1: 0.7211 - pearson: 0.4405 - val_loss: 1.5366 - val_acc1: 0.6120 - val_pearson: 0.2956\n",
            "Epoch 7/10\n",
            "15744/15744 [==============================] - 35s 2ms/step - loss: 0.8519 - acc1: 0.7243 - pearson: 0.4517 - val_loss: 1.5033 - val_acc1: 0.6165 - val_pearson: 0.3019\n",
            "Epoch 8/10\n",
            "15744/15744 [==============================] - 35s 2ms/step - loss: 0.8305 - acc1: 0.7282 - pearson: 0.4674 - val_loss: 1.4729 - val_acc1: 0.6214 - val_pearson: 0.3042\n",
            "Epoch 9/10\n",
            "15744/15744 [==============================] - 35s 2ms/step - loss: 0.8201 - acc1: 0.7299 - pearson: 0.4764 - val_loss: 1.4544 - val_acc1: 0.6253 - val_pearson: 0.3076\n",
            "Epoch 10/10\n",
            "15744/15744 [==============================] - 35s 2ms/step - loss: 0.8138 - acc1: 0.7320 - pearson: 0.4814 - val_loss: 1.4412 - val_acc1: 0.6287 - val_pearson: 0.3103\n"
          ],
          "name": "stdout"
        }
      ]
    },
    {
      "cell_type": "markdown",
      "metadata": {
        "id": "HpUToFuToSeq",
        "colab_type": "text"
      },
      "source": [
        "## **training(STACK)**"
      ]
    },
    {
      "cell_type": "code",
      "metadata": {
        "id": "9e4F2xd6negP",
        "colab_type": "code",
        "colab": {}
      },
      "source": [
        "model_stack.compile(optimizer=adam(),loss='mean_squared_error',metrics=[acc1,pearson])"
      ],
      "execution_count": 0,
      "outputs": []
    },
    {
      "cell_type": "code",
      "metadata": {
        "id": "30U1tCmAnURr",
        "colab_type": "code",
        "outputId": "fc673d24-d4c0-47bf-c6dd-029cd7138ebb",
        "colab": {
          "base_uri": "https://localhost:8080/",
          "height": 370
        }
      },
      "source": [
        "Hist_stack=model_stack.fit([temp1,temp2],pre_Y,bs,10,validation_split=0.2)"
      ],
      "execution_count": 0,
      "outputs": [
        {
          "output_type": "stream",
          "text": [
            "Train on 15744 samples, validate on 3936 samples\n",
            "Epoch 1/10\n",
            "15744/15744 [==============================] - 69s 4ms/step - loss: 1.1362 - acc1: 0.6633 - pearson: 0.1938 - val_loss: 1.4099 - val_acc1: 0.6104 - val_pearson: 0.2834\n",
            "Epoch 2/10\n",
            "15744/15744 [==============================] - 65s 4ms/step - loss: 0.9351 - acc1: 0.6926 - pearson: 0.3438 - val_loss: 1.3294 - val_acc1: 0.6273 - val_pearson: 0.3051\n",
            "Epoch 3/10\n",
            "15744/15744 [==============================] - 66s 4ms/step - loss: 0.8613 - acc1: 0.7085 - pearson: 0.4243 - val_loss: 1.3094 - val_acc1: 0.6319 - val_pearson: 0.3095\n",
            "Epoch 4/10\n",
            "15744/15744 [==============================] - 65s 4ms/step - loss: 0.8194 - acc1: 0.7199 - pearson: 0.4663 - val_loss: 1.2683 - val_acc1: 0.6410 - val_pearson: 0.3311\n",
            "Epoch 5/10\n",
            "15744/15744 [==============================] - 65s 4ms/step - loss: 0.7893 - acc1: 0.7283 - pearson: 0.4914 - val_loss: 1.2541 - val_acc1: 0.6446 - val_pearson: 0.3331\n",
            "Epoch 6/10\n",
            "15744/15744 [==============================] - 66s 4ms/step - loss: 0.7780 - acc1: 0.7318 - pearson: 0.5038 - val_loss: 1.2321 - val_acc1: 0.6490 - val_pearson: 0.3370\n",
            "Epoch 7/10\n",
            "15744/15744 [==============================] - 65s 4ms/step - loss: 0.7639 - acc1: 0.7351 - pearson: 0.5154 - val_loss: 1.2294 - val_acc1: 0.6498 - val_pearson: 0.3386\n",
            "Epoch 8/10\n",
            "15744/15744 [==============================] - 67s 4ms/step - loss: 0.7516 - acc1: 0.7387 - pearson: 0.5321 - val_loss: 1.2130 - val_acc1: 0.6545 - val_pearson: 0.3409\n",
            "Epoch 9/10\n",
            "15744/15744 [==============================] - 65s 4ms/step - loss: 0.7349 - acc1: 0.7432 - pearson: 0.5442 - val_loss: 1.2021 - val_acc1: 0.6571 - val_pearson: 0.3427\n",
            "Epoch 10/10\n",
            "15744/15744 [==============================] - 65s 4ms/step - loss: 0.7285 - acc1: 0.7454 - pearson: 0.5471 - val_loss: 1.2141 - val_acc1: 0.6554 - val_pearson: 0.3464\n"
          ],
          "name": "stdout"
        }
      ]
    },
    {
      "cell_type": "markdown",
      "metadata": {
        "id": "4zoTAki7rG5i",
        "colab_type": "text"
      },
      "source": [
        "## **training(Bidirectional)**"
      ]
    },
    {
      "cell_type": "code",
      "metadata": {
        "id": "7rHPinQQrFFd",
        "colab_type": "code",
        "colab": {}
      },
      "source": [
        "model_bi.compile(optimizer=adam(),loss='mean_squared_error',metrics=[acc1,pearson])"
      ],
      "execution_count": 0,
      "outputs": []
    },
    {
      "cell_type": "code",
      "metadata": {
        "id": "IZDZwchurGM4",
        "colab_type": "code",
        "outputId": "312e6ea2-e7fb-4163-fffd-9f65a5f864c8",
        "colab": {
          "base_uri": "https://localhost:8080/",
          "height": 370
        }
      },
      "source": [
        "hist_bi=model_bi.fit([temp1,temp2],pre_Y,bs,10,validation_split=0.2)"
      ],
      "execution_count": 0,
      "outputs": [
        {
          "output_type": "stream",
          "text": [
            "Train on 15744 samples, validate on 3936 samples\n",
            "Epoch 1/10\n",
            "15744/15744 [==============================] - 79s 5ms/step - loss: 2.9546 - acc1: 0.5607 - pearson: 0.1191 - val_loss: 1.7272 - val_acc1: 0.5780 - val_pearson: 0.2235\n",
            "Epoch 2/10\n",
            "15744/15744 [==============================] - 76s 5ms/step - loss: 1.1597 - acc1: 0.6784 - pearson: 0.2539 - val_loss: 1.6635 - val_acc1: 0.5896 - val_pearson: 0.2547\n",
            "Epoch 3/10\n",
            "15744/15744 [==============================] - 75s 5ms/step - loss: 1.0397 - acc1: 0.6949 - pearson: 0.3281 - val_loss: 1.6114 - val_acc1: 0.5999 - val_pearson: 0.2784\n",
            "Epoch 4/10\n",
            "15744/15744 [==============================] - 75s 5ms/step - loss: 0.9596 - acc1: 0.7062 - pearson: 0.3774 - val_loss: 1.5493 - val_acc1: 0.6092 - val_pearson: 0.2913\n",
            "Epoch 5/10\n",
            "15744/15744 [==============================] - 76s 5ms/step - loss: 0.9085 - acc1: 0.7140 - pearson: 0.4118 - val_loss: 1.5402 - val_acc1: 0.6079 - val_pearson: 0.2984\n",
            "Epoch 6/10\n",
            "15744/15744 [==============================] - 76s 5ms/step - loss: 0.8746 - acc1: 0.7203 - pearson: 0.4343 - val_loss: 1.5092 - val_acc1: 0.6144 - val_pearson: 0.3030\n",
            "Epoch 7/10\n",
            "15744/15744 [==============================] - 75s 5ms/step - loss: 0.8504 - acc1: 0.7248 - pearson: 0.4539 - val_loss: 1.4767 - val_acc1: 0.6192 - val_pearson: 0.3120\n",
            "Epoch 8/10\n",
            "15744/15744 [==============================] - 76s 5ms/step - loss: 0.8337 - acc1: 0.7277 - pearson: 0.4647 - val_loss: 1.4392 - val_acc1: 0.6259 - val_pearson: 0.3116\n",
            "Epoch 9/10\n",
            "15744/15744 [==============================] - 74s 5ms/step - loss: 0.8202 - acc1: 0.7301 - pearson: 0.4786 - val_loss: 1.4467 - val_acc1: 0.6247 - val_pearson: 0.3119\n",
            "Epoch 10/10\n",
            "15744/15744 [==============================] - 76s 5ms/step - loss: 0.8102 - acc1: 0.7323 - pearson: 0.4863 - val_loss: 1.3920 - val_acc1: 0.6355 - val_pearson: 0.3154\n"
          ],
          "name": "stdout"
        }
      ]
    },
    {
      "cell_type": "markdown",
      "metadata": {
        "id": "Q0cuIx-XjplB",
        "colab_type": "text"
      },
      "source": [
        "# **plots**"
      ]
    },
    {
      "cell_type": "code",
      "metadata": {
        "id": "u29XU8j8floC",
        "colab_type": "code",
        "colab": {}
      },
      "source": [
        "class plotting():\n",
        "  def __init__(self,mod):\n",
        "    self.mod=mod\n",
        "    \n",
        "  def accPlot(self):\n",
        "    plt.plot(self.mod.history['acc1'])\n",
        "    plt.plot(self.mod.history['val_acc1'])\n",
        "    plt.title('Model Accuracy')\n",
        "    plt.ylabel('Accuracy')\n",
        "    plt.xlabel('Epoch')\n",
        "    plt.legend(['Train', 'Validation'], loc='upper left')\n",
        "    \n",
        "  def lossPlot(self):\n",
        "    plt.plot(self.mod.history['loss'])\n",
        "    plt.plot(self.mod.history['val_loss'])\n",
        "    plt.title('Model Loss')\n",
        "    plt.ylabel('Loss')\n",
        "    plt.xlabel('Epoch')\n",
        "    plt.legend(['Train', 'Validation'], loc='upper right')\n"
      ],
      "execution_count": 0,
      "outputs": []
    },
    {
      "cell_type": "markdown",
      "metadata": {
        "id": "P1TmYloCozvH",
        "colab_type": "text"
      },
      "source": [
        "## **plot for LSTM**"
      ]
    },
    {
      "cell_type": "code",
      "metadata": {
        "id": "mZZxToh9jIX7",
        "colab_type": "code",
        "colab": {}
      },
      "source": [
        "pt=plotting(Hist)"
      ],
      "execution_count": 0,
      "outputs": []
    },
    {
      "cell_type": "code",
      "metadata": {
        "id": "TtznGSH7hJbo",
        "colab_type": "code",
        "outputId": "9bfb7e4c-377c-4b28-f2a7-66b6b7352ef0",
        "colab": {
          "base_uri": "https://localhost:8080/",
          "height": 295
        }
      },
      "source": [
        "pt.accPlot()"
      ],
      "execution_count": 0,
      "outputs": [
        {
          "output_type": "display_data",
          "data": {
            "image/png": "[encoded data removed]",
            "text/plain": [
              "<Figure size 432x288 with 1 Axes>"
            ]
          },
          "metadata": {
            "tags": []
          }
        }
      ]
    },
    {
      "cell_type": "code",
      "metadata": {
        "id": "iK9x1Oe-imat",
        "colab_type": "code",
        "outputId": "5018f264-d4b9-4f1d-eafd-d14be3138d53",
        "colab": {
          "base_uri": "https://localhost:8080/",
          "height": 295
        }
      },
      "source": [
        "pt.lossPlot()"
      ],
      "execution_count": 0,
      "outputs": [
        {
          "output_type": "display_data",
          "data": {
            "image/png": "[encoded data removed]",
            "text/plain": [
              "<Figure size 432x288 with 1 Axes>"
            ]
          },
          "metadata": {
            "tags": []
          }
        }
      ]
    },
    {
      "cell_type": "code",
      "metadata": {
        "id": "aOiiCSRzssIQ",
        "colab_type": "code",
        "colab": {}
      },
      "source": [
        "models.save(path/'MODEL')"
      ],
      "execution_count": 0,
      "outputs": []
    },
    {
      "cell_type": "markdown",
      "metadata": {
        "id": "jSZJNOf8o34p",
        "colab_type": "text"
      },
      "source": [
        "## **plot for STACK**"
      ]
    },
    {
      "cell_type": "code",
      "metadata": {
        "id": "ItMFE2necxs2",
        "colab_type": "code",
        "colab": {}
      },
      "source": [
        "pt_stack=plotting(Hist_stack)"
      ],
      "execution_count": 0,
      "outputs": []
    },
    {
      "cell_type": "code",
      "metadata": {
        "id": "Kxt_a3Bwcxov",
        "colab_type": "code",
        "outputId": "faed8e3e-b634-4195-ec20-5abb13d51e77",
        "colab": {
          "base_uri": "https://localhost:8080/",
          "height": 295
        }
      },
      "source": [
        "pt_stack.accPlot()"
      ],
      "execution_count": 0,
      "outputs": [
        {
          "output_type": "display_data",
          "data": {
            "image/png": "[encoded data removed]",
            "text/plain": [
              "<Figure size 432x288 with 1 Axes>"
            ]
          },
          "metadata": {
            "tags": []
          }
        }
      ]
    },
    {
      "cell_type": "code",
      "metadata": {
        "id": "1xOzI3ICcxnW",
        "colab_type": "code",
        "outputId": "026915da-e27b-4ba6-f316-6822491e4f54",
        "colab": {
          "base_uri": "https://localhost:8080/",
          "height": 295
        }
      },
      "source": [
        "pt_stack.lossPlot()"
      ],
      "execution_count": 0,
      "outputs": [
        {
          "output_type": "display_data",
          "data": {
            "image/png": "[encoded data removed]",
            "text/plain": [
              "<Figure size 432x288 with 1 Axes>"
            ]
          },
          "metadata": {
            "tags": []
          }
        }
      ]
    },
    {
      "cell_type": "code",
      "metadata": {
        "id": "HbeNArAYcxb4",
        "colab_type": "code",
        "colab": {}
      },
      "source": [
        "model_stack.save(path/'MODEL_STACK')"
      ],
      "execution_count": 0,
      "outputs": []
    },
    {
      "cell_type": "markdown",
      "metadata": {
        "id": "tAvTVeD3seem",
        "colab_type": "text"
      },
      "source": [
        "## **PLOT FOR BIDIRECTIONAL**"
      ]
    },
    {
      "cell_type": "code",
      "metadata": {
        "id": "J_djq9IMsiFg",
        "colab_type": "code",
        "colab": {}
      },
      "source": [
        "pt_bi=plotting(hist_bi)"
      ],
      "execution_count": 0,
      "outputs": []
    },
    {
      "cell_type": "code",
      "metadata": {
        "id": "xg_Z2sT2siVF",
        "colab_type": "code",
        "outputId": "c70ee4e6-07ed-4800-d89e-f96bc7b8f614",
        "colab": {
          "base_uri": "https://localhost:8080/",
          "height": 295
        }
      },
      "source": [
        "pt_bi.accPlot()"
      ],
      "execution_count": 0,
      "outputs": [
        {
          "output_type": "display_data",
          "data": {
            "image/png": "[encoded data removed]",
            "text/plain": [
              "<Figure size 432x288 with 1 Axes>"
            ]
          },
          "metadata": {
            "tags": []
          }
        }
      ]
    },
    {
      "cell_type": "code",
      "metadata": {
        "id": "HVNbyECBsiQN",
        "colab_type": "code",
        "outputId": "7a999761-dab5-44fd-dbd8-fb91f457d561",
        "colab": {
          "base_uri": "https://localhost:8080/",
          "height": 295
        }
      },
      "source": [
        "pt_bi.lossPlot()"
      ],
      "execution_count": 0,
      "outputs": [
        {
          "output_type": "display_data",
          "data": {
            "image/png": "[encoded data removed]",
            "text/plain": [
              "<Figure size 432x288 with 1 Axes>"
            ]
          },
          "metadata": {
            "tags": []
          }
        }
      ]
    },
    {
      "cell_type": "code",
      "metadata": {
        "id": "EDj3EEqQstZ7",
        "colab_type": "code",
        "colab": {}
      },
      "source": [
        "model_bi.save(path/'MODEL_BIDIRECTIONAL')"
      ],
      "execution_count": 0,
      "outputs": []
    },
    {
      "cell_type": "markdown",
      "metadata": {
        "id": "vNBe1ODEXxmY",
        "colab_type": "text"
      },
      "source": [
        "# **OUR DATA**"
      ]
    },
    {
      "cell_type": "markdown",
      "metadata": {
        "id": "fX4T7vlb6IB2",
        "colab_type": "text"
      },
      "source": [
        "## **loading data**"
      ]
    },
    {
      "cell_type": "code",
      "metadata": {
        "id": "LC-yZ8feYGAD",
        "colab_type": "code",
        "outputId": "a2801fef-dc6b-4338-fb95-b7204ab81d4e",
        "colab": {
          "base_uri": "https://localhost:8080/",
          "height": 1000
        }
      },
      "source": [
        "our_df.head(40)"
      ],
      "execution_count": 0,
      "outputs": [
        {
          "output_type": "execute_result",
          "data": {
            "text/html": [
              "<div>\n",
              "<style scoped>\n",
              "    .dataframe tbody tr th:only-of-type {\n",
              "        vertical-align: middle;\n",
              "    }\n",
              "\n",
              "    .dataframe tbody tr th {\n",
              "        vertical-align: top;\n",
              "    }\n",
              "\n",
              "    .dataframe thead th {\n",
              "        text-align: right;\n",
              "    }\n",
              "</style>\n",
              "<table border=\"1\" class=\"dataframe\">\n",
              "  <thead>\n",
              "    <tr style=\"text-align: right;\">\n",
              "      <th></th>\n",
              "      <th>QuestionNumber</th>\n",
              "      <th>Answer</th>\n",
              "      <th>Score</th>\n",
              "      <th>CorrectAnswer</th>\n",
              "      <th>Answer_n</th>\n",
              "      <th>Correct_n</th>\n",
              "    </tr>\n",
              "  </thead>\n",
              "  <tbody>\n",
              "    <tr>\n",
              "      <th>0</th>\n",
              "      <td>1.1</td>\n",
              "      <td>High risk problems are address in the prototyp...</td>\n",
              "      <td>3.5</td>\n",
              "      <td>To simulate the behaviour of portions of the d...</td>\n",
              "      <td>[1, 2, 3, 4, 5, 6, 7, 8, 6, 9, 5, 10, 11, 12, ...</td>\n",
              "      <td>[18, 19, 20, 21, 15, 22]</td>\n",
              "    </tr>\n",
              "    <tr>\n",
              "      <th>1</th>\n",
              "      <td>1.1</td>\n",
              "      <td>To simulate portions of the desired final prod...</td>\n",
              "      <td>5.0</td>\n",
              "      <td>To simulate the behaviour of portions of the d...</td>\n",
              "      <td>[18, 20, 21, 23, 22, 24, 25, 6, 26, 27, 28, 29...</td>\n",
              "      <td>[18, 19, 20, 21, 15, 22]</td>\n",
              "    </tr>\n",
              "    <tr>\n",
              "      <th>2</th>\n",
              "      <td>1.1</td>\n",
              "      <td>A prototype program simulates the behaviors of...</td>\n",
              "      <td>4.0</td>\n",
              "      <td>To simulate the behaviour of portions of the d...</td>\n",
              "      <td>[5, 6, 35, 36, 20, 21, 15, 22, 37, 38, 39]</td>\n",
              "      <td>[18, 19, 20, 21, 15, 22]</td>\n",
              "    </tr>\n",
              "    <tr>\n",
              "      <th>3</th>\n",
              "      <td>1.1</td>\n",
              "      <td>Defined in the Specification phase a prototype...</td>\n",
              "      <td>5.0</td>\n",
              "      <td>To simulate the behaviour of portions of the d...</td>\n",
              "      <td>[40, 41, 42, 5, 43, 44, 20, 21, 15, 22, 45, 46...</td>\n",
              "      <td>[18, 19, 20, 21, 15, 22]</td>\n",
              "    </tr>\n",
              "    <tr>\n",
              "      <th>4</th>\n",
              "      <td>1.1</td>\n",
              "      <td>It is used to let the users have a first idea ...</td>\n",
              "      <td>3.0</td>\n",
              "      <td>To simulate the behaviour of portions of the d...</td>\n",
              "      <td>[12, 52, 53, 54, 55, 56, 6, 37, 57, 58, 6, 59,...</td>\n",
              "      <td>[18, 19, 20, 21, 15, 22]</td>\n",
              "    </tr>\n",
              "    <tr>\n",
              "      <th>5</th>\n",
              "      <td>1.1</td>\n",
              "      <td>To find problem and errors in a program before...</td>\n",
              "      <td>2.0</td>\n",
              "      <td>To simulate the behaviour of portions of the d...</td>\n",
              "      <td>[66, 32, 67, 6, 68]</td>\n",
              "      <td>[18, 19, 20, 21, 15, 22]</td>\n",
              "    </tr>\n",
              "    <tr>\n",
              "      <th>6</th>\n",
              "      <td>1.1</td>\n",
              "      <td>To address major issues in the creation of the...</td>\n",
              "      <td>2.5</td>\n",
              "      <td>To simulate the behaviour of portions of the d...</td>\n",
              "      <td>[4, 69, 70, 71, 6, 29, 72, 73, 74, 6, 73, 75, ...</td>\n",
              "      <td>[18, 19, 20, 21, 15, 22]</td>\n",
              "    </tr>\n",
              "    <tr>\n",
              "      <th>7</th>\n",
              "      <td>1.1</td>\n",
              "      <td>you can break the whole program into prototype...</td>\n",
              "      <td>5.0</td>\n",
              "      <td>To simulate the behaviour of portions of the d...</td>\n",
              "      <td>[77, 78, 6, 5, 79, 18, 80, 23, 6]</td>\n",
              "      <td>[18, 19, 20, 21, 15, 22]</td>\n",
              "    </tr>\n",
              "    <tr>\n",
              "      <th>8</th>\n",
              "      <td>1.1</td>\n",
              "      <td>To provide an example or model of how the fini...</td>\n",
              "      <td>3.5</td>\n",
              "      <td>To simulate the behaviour of portions of the d...</td>\n",
              "      <td>[81, 82, 83, 84, 6, 85, 86, 87, 88, 89, 90, 86...</td>\n",
              "      <td>[18, 19, 20, 21, 15, 22]</td>\n",
              "    </tr>\n",
              "    <tr>\n",
              "      <th>9</th>\n",
              "      <td>1.1</td>\n",
              "      <td>Simulating the behavior of only a portion of t...</td>\n",
              "      <td>5.0</td>\n",
              "      <td>To simulate the behaviour of portions of the d...</td>\n",
              "      <td>[94, 44, 95, 21, 15, 22]</td>\n",
              "      <td>[18, 19, 20, 21, 15, 22]</td>\n",
              "    </tr>\n",
              "    <tr>\n",
              "      <th>10</th>\n",
              "      <td>1.1</td>\n",
              "      <td>A program that stimulates the behavior of port...</td>\n",
              "      <td>5.0</td>\n",
              "      <td>To simulate the behaviour of portions of the d...</td>\n",
              "      <td>[6, 43, 44, 20, 21, 15, 22]</td>\n",
              "      <td>[18, 19, 20, 21, 15, 22]</td>\n",
              "    </tr>\n",
              "    <tr>\n",
              "      <th>11</th>\n",
              "      <td>1.1</td>\n",
              "      <td>A program that simulates the behavior of porti...</td>\n",
              "      <td>5.0</td>\n",
              "      <td>To simulate the behaviour of portions of the d...</td>\n",
              "      <td>[6, 35, 44, 20, 21, 15, 22]</td>\n",
              "      <td>[18, 19, 20, 21, 15, 22]</td>\n",
              "    </tr>\n",
              "    <tr>\n",
              "      <th>12</th>\n",
              "      <td>1.1</td>\n",
              "      <td>To lay out the basics and give you a starting ...</td>\n",
              "      <td>2.0</td>\n",
              "      <td>To simulate the behaviour of portions of the d...</td>\n",
              "      <td>[96, 97, 98, 99, 100, 101, 32, 51]</td>\n",
              "      <td>[18, 19, 20, 21, 15, 22]</td>\n",
              "    </tr>\n",
              "    <tr>\n",
              "      <th>13</th>\n",
              "      <td>1.1</td>\n",
              "      <td>To simulate problem solving for parts of the p...</td>\n",
              "      <td>4.5</td>\n",
              "      <td>To simulate the behaviour of portions of the d...</td>\n",
              "      <td>[18, 32, 51, 80, 32]</td>\n",
              "      <td>[18, 19, 20, 21, 15, 22]</td>\n",
              "    </tr>\n",
              "    <tr>\n",
              "      <th>14</th>\n",
              "      <td>1.1</td>\n",
              "      <td>A prototype program provides a basic groundwor...</td>\n",
              "      <td>2.0</td>\n",
              "      <td>To simulate the behaviour of portions of the d...</td>\n",
              "      <td>[5, 6, 86, 102, 103, 104, 105, 48, 32]</td>\n",
              "      <td>[18, 19, 20, 21, 15, 22]</td>\n",
              "    </tr>\n",
              "    <tr>\n",
              "      <th>15</th>\n",
              "      <td>1.1</td>\n",
              "      <td>A prototype program is a part of the Specifica...</td>\n",
              "      <td>4.5</td>\n",
              "      <td>To simulate the behaviour of portions of the d...</td>\n",
              "      <td>[5, 6, 106, 41, 42, 15, 32, 107, 108, 109, 110...</td>\n",
              "      <td>[18, 19, 20, 21, 15, 22]</td>\n",
              "    </tr>\n",
              "    <tr>\n",
              "      <th>16</th>\n",
              "      <td>1.1</td>\n",
              "      <td>Program that simulates the behavior of portion...</td>\n",
              "      <td>5.0</td>\n",
              "      <td>To simulate the behaviour of portions of the d...</td>\n",
              "      <td>[6, 35, 44, 20, 21, 15, 22]</td>\n",
              "      <td>[18, 19, 20, 21, 15, 22]</td>\n",
              "    </tr>\n",
              "    <tr>\n",
              "      <th>17</th>\n",
              "      <td>1.1</td>\n",
              "      <td>it provides a limited proof of concept to veri...</td>\n",
              "      <td>2.0</td>\n",
              "      <td>To simulate the behaviour of portions of the d...</td>\n",
              "      <td>[86, 117, 118, 119, 120, 121, 122, 123, 78, 124]</td>\n",
              "      <td>[18, 19, 20, 21, 15, 22]</td>\n",
              "    </tr>\n",
              "    <tr>\n",
              "      <th>18</th>\n",
              "      <td>1.1</td>\n",
              "      <td>It tests the main function of the program whil...</td>\n",
              "      <td>2.0</td>\n",
              "      <td>To simulate the behaviour of portions of the d...</td>\n",
              "      <td>[125, 126, 127, 6, 128, 129, 130]</td>\n",
              "      <td>[18, 19, 20, 21, 15, 22]</td>\n",
              "    </tr>\n",
              "    <tr>\n",
              "      <th>19</th>\n",
              "      <td>1.1</td>\n",
              "      <td>To get early feedback from users in early stag...</td>\n",
              "      <td>2.5</td>\n",
              "      <td>To simulate the behaviour of portions of the d...</td>\n",
              "      <td>[131, 132, 61, 53, 132, 133, 134, 13, 53, 54, ...</td>\n",
              "      <td>[18, 19, 20, 21, 15, 22]</td>\n",
              "    </tr>\n",
              "    <tr>\n",
              "      <th>20</th>\n",
              "      <td>1.1</td>\n",
              "      <td>it simulates the behavior of portions of the d...</td>\n",
              "      <td>5.0</td>\n",
              "      <td>To simulate the behaviour of portions of the d...</td>\n",
              "      <td>[35, 44, 20, 21, 15, 22]</td>\n",
              "      <td>[18, 19, 20, 21, 15, 22]</td>\n",
              "    </tr>\n",
              "    <tr>\n",
              "      <th>21</th>\n",
              "      <td>1.1</td>\n",
              "      <td>It simulates the behavior of portions of the d...</td>\n",
              "      <td>5.0</td>\n",
              "      <td>To simulate the behaviour of portions of the d...</td>\n",
              "      <td>[35, 44, 20, 21, 15, 22]</td>\n",
              "      <td>[18, 19, 20, 21, 15, 22]</td>\n",
              "    </tr>\n",
              "    <tr>\n",
              "      <th>22</th>\n",
              "      <td>1.1</td>\n",
              "      <td>A prototype program is used in problem solving...</td>\n",
              "      <td>1.5</td>\n",
              "      <td>To simulate the behaviour of portions of the d...</td>\n",
              "      <td>[5, 6, 12, 32, 51, 141, 142, 32]</td>\n",
              "      <td>[18, 19, 20, 21, 15, 22]</td>\n",
              "    </tr>\n",
              "    <tr>\n",
              "      <th>23</th>\n",
              "      <td>1.2</td>\n",
              "      <td>Refining and possibly the design if the testin...</td>\n",
              "      <td>3.5</td>\n",
              "      <td>The testing stage can influence both the codin...</td>\n",
              "      <td>[143, 16, 144, 145, 42, 146, 3, 144, 147, 148,...</td>\n",
              "      <td>[145, 163, 164, 158, 163, 42, 165, 48, 166, 16...</td>\n",
              "    </tr>\n",
              "    <tr>\n",
              "      <th>24</th>\n",
              "      <td>1.2</td>\n",
              "      <td>The implementation phase and the maintenance p...</td>\n",
              "      <td>4.0</td>\n",
              "      <td>The testing stage can influence both the codin...</td>\n",
              "      <td>[168, 42, 169, 42, 170]</td>\n",
              "      <td>[145, 163, 164, 158, 163, 42, 165, 48, 166, 16...</td>\n",
              "    </tr>\n",
              "    <tr>\n",
              "      <th>25</th>\n",
              "      <td>1.2</td>\n",
              "      <td>Verification, coding, refining the solution an...</td>\n",
              "      <td>4.5</td>\n",
              "      <td>The testing stage can influence both the codin...</td>\n",
              "      <td>[171, 158, 143, 48, 169, 172, 145, 163]</td>\n",
              "      <td>[145, 163, 164, 158, 163, 42, 165, 48, 166, 16...</td>\n",
              "    </tr>\n",
              "    <tr>\n",
              "      <th>26</th>\n",
              "      <td>1.2</td>\n",
              "      <td>In RUP the stages in the software life cycle a...</td>\n",
              "      <td>3.0</td>\n",
              "      <td>The testing stage can influence both the codin...</td>\n",
              "      <td>[173, 133, 15, 174, 175, 172, 145, 163, 176, 1...</td>\n",
              "      <td>[145, 163, 164, 158, 163, 42, 165, 48, 166, 16...</td>\n",
              "    </tr>\n",
              "    <tr>\n",
              "      <th>27</th>\n",
              "      <td>1.2</td>\n",
              "      <td>Refining the solution, Production and Maintena...</td>\n",
              "      <td>3.0</td>\n",
              "      <td>The testing stage can influence both the codin...</td>\n",
              "      <td>[143, 48, 147, 169, 172, 145, 163]</td>\n",
              "      <td>[145, 163, 164, 158, 163, 42, 165, 48, 166, 16...</td>\n",
              "    </tr>\n",
              "    <tr>\n",
              "      <th>28</th>\n",
              "      <td>1.2</td>\n",
              "      <td>Elaboration, Construction, and Transition are ...</td>\n",
              "      <td>2.0</td>\n",
              "      <td>The testing stage can influence both the codin...</td>\n",
              "      <td>[177, 188, 190, 148, 145]</td>\n",
              "      <td>[145, 163, 164, 158, 163, 42, 165, 48, 166, 16...</td>\n",
              "    </tr>\n",
              "    <tr>\n",
              "      <th>29</th>\n",
              "      <td>1.2</td>\n",
              "      <td>Refining, Production, Maintenance</td>\n",
              "      <td>3.5</td>\n",
              "      <td>The testing stage can influence both the codin...</td>\n",
              "      <td>[143, 147, 169]</td>\n",
              "      <td>[145, 163, 164, 158, 163, 42, 165, 48, 166, 16...</td>\n",
              "    </tr>\n",
              "    <tr>\n",
              "      <th>30</th>\n",
              "      <td>1.2</td>\n",
              "      <td>Refining the solution</td>\n",
              "      <td>4.0</td>\n",
              "      <td>The testing stage can influence both the codin...</td>\n",
              "      <td>[143, 48]</td>\n",
              "      <td>[145, 163, 164, 158, 163, 42, 165, 48, 166, 16...</td>\n",
              "    </tr>\n",
              "    <tr>\n",
              "      <th>31</th>\n",
              "      <td>1.2</td>\n",
              "      <td>Verification Debugging</td>\n",
              "      <td>2.0</td>\n",
              "      <td>The testing stage can influence both the codin...</td>\n",
              "      <td>[171, 192]</td>\n",
              "      <td>[145, 163, 164, 158, 163, 42, 165, 48, 166, 16...</td>\n",
              "    </tr>\n",
              "    <tr>\n",
              "      <th>32</th>\n",
              "      <td>1.2</td>\n",
              "      <td>Refining and Coding</td>\n",
              "      <td>5.0</td>\n",
              "      <td>The testing stage can influence both the codin...</td>\n",
              "      <td>[143, 158]</td>\n",
              "      <td>[145, 163, 164, 158, 163, 42, 165, 48, 166, 16...</td>\n",
              "    </tr>\n",
              "    <tr>\n",
              "      <th>33</th>\n",
              "      <td>1.2</td>\n",
              "      <td>The second half of the Elaboration phase, Cons...</td>\n",
              "      <td>2.5</td>\n",
              "      <td>The testing stage can influence both the codin...</td>\n",
              "      <td>[193, 194, 177, 42, 188, 42, 190, 42]</td>\n",
              "      <td>[145, 163, 164, 158, 163, 42, 165, 48, 166, 16...</td>\n",
              "    </tr>\n",
              "    <tr>\n",
              "      <th>34</th>\n",
              "      <td>1.2</td>\n",
              "      <td>The refining step, the production step, and th...</td>\n",
              "      <td>3.5</td>\n",
              "      <td>The testing stage can influence both the codin...</td>\n",
              "      <td>[143, 195, 147, 195, 169, 163]</td>\n",
              "      <td>[145, 163, 164, 158, 163, 42, 165, 48, 166, 16...</td>\n",
              "    </tr>\n",
              "    <tr>\n",
              "      <th>35</th>\n",
              "      <td>1.2</td>\n",
              "      <td>Elaboration, Construction, Transition</td>\n",
              "      <td>2.0</td>\n",
              "      <td>The testing stage can influence both the codin...</td>\n",
              "      <td>[177, 188, 190]</td>\n",
              "      <td>[145, 163, 164, 158, 163, 42, 165, 48, 166, 16...</td>\n",
              "    </tr>\n",
              "    <tr>\n",
              "      <th>36</th>\n",
              "      <td>1.2</td>\n",
              "      <td>Refining.</td>\n",
              "      <td>3.0</td>\n",
              "      <td>The testing stage can influence both the codin...</td>\n",
              "      <td>[143]</td>\n",
              "      <td>[145, 163, 164, 158, 163, 42, 165, 48, 166, 16...</td>\n",
              "    </tr>\n",
              "    <tr>\n",
              "      <th>37</th>\n",
              "      <td>1.2</td>\n",
              "      <td>The testing stage has a direct influence on th...</td>\n",
              "      <td>1.5</td>\n",
              "      <td>The testing stage can influence both the codin...</td>\n",
              "      <td>[145, 163, 196, 164, 23, 197, 6, 192, 198, 15,...</td>\n",
              "      <td>[145, 163, 164, 158, 163, 42, 165, 48, 166, 16...</td>\n",
              "    </tr>\n",
              "    <tr>\n",
              "      <th>38</th>\n",
              "      <td>1.2</td>\n",
              "      <td>Directly: Refining, coding.  Because Refining ...</td>\n",
              "      <td>5.0</td>\n",
              "      <td>The testing stage can influence both the codin...</td>\n",
              "      <td>[200, 176, 143, 158, 143, 201, 145, 42, 158, 2...</td>\n",
              "      <td>[145, 163, 164, 158, 163, 42, 165, 48, 166, 16...</td>\n",
              "    </tr>\n",
              "    <tr>\n",
              "      <th>39</th>\n",
              "      <td>1.2</td>\n",
              "      <td>Testing, refining, production, and maintenance.</td>\n",
              "      <td>3.5</td>\n",
              "      <td>The testing stage can influence both the codin...</td>\n",
              "      <td>[145, 143, 147, 169]</td>\n",
              "      <td>[145, 163, 164, 158, 163, 42, 165, 48, 166, 16...</td>\n",
              "    </tr>\n",
              "  </tbody>\n",
              "</table>\n",
              "</div>"
            ],
            "text/plain": [
              "    QuestionNumber  ...                                          Correct_n\n",
              "0              1.1  ...                           [18, 19, 20, 21, 15, 22]\n",
              "1              1.1  ...                           [18, 19, 20, 21, 15, 22]\n",
              "2              1.1  ...                           [18, 19, 20, 21, 15, 22]\n",
              "3              1.1  ...                           [18, 19, 20, 21, 15, 22]\n",
              "4              1.1  ...                           [18, 19, 20, 21, 15, 22]\n",
              "5              1.1  ...                           [18, 19, 20, 21, 15, 22]\n",
              "6              1.1  ...                           [18, 19, 20, 21, 15, 22]\n",
              "7              1.1  ...                           [18, 19, 20, 21, 15, 22]\n",
              "8              1.1  ...                           [18, 19, 20, 21, 15, 22]\n",
              "9              1.1  ...                           [18, 19, 20, 21, 15, 22]\n",
              "10             1.1  ...                           [18, 19, 20, 21, 15, 22]\n",
              "11             1.1  ...                           [18, 19, 20, 21, 15, 22]\n",
              "12             1.1  ...                           [18, 19, 20, 21, 15, 22]\n",
              "13             1.1  ...                           [18, 19, 20, 21, 15, 22]\n",
              "14             1.1  ...                           [18, 19, 20, 21, 15, 22]\n",
              "15             1.1  ...                           [18, 19, 20, 21, 15, 22]\n",
              "16             1.1  ...                           [18, 19, 20, 21, 15, 22]\n",
              "17             1.1  ...                           [18, 19, 20, 21, 15, 22]\n",
              "18             1.1  ...                           [18, 19, 20, 21, 15, 22]\n",
              "19             1.1  ...                           [18, 19, 20, 21, 15, 22]\n",
              "20             1.1  ...                           [18, 19, 20, 21, 15, 22]\n",
              "21             1.1  ...                           [18, 19, 20, 21, 15, 22]\n",
              "22             1.1  ...                           [18, 19, 20, 21, 15, 22]\n",
              "23             1.2  ...  [145, 163, 164, 158, 163, 42, 165, 48, 166, 16...\n",
              "24             1.2  ...  [145, 163, 164, 158, 163, 42, 165, 48, 166, 16...\n",
              "25             1.2  ...  [145, 163, 164, 158, 163, 42, 165, 48, 166, 16...\n",
              "26             1.2  ...  [145, 163, 164, 158, 163, 42, 165, 48, 166, 16...\n",
              "27             1.2  ...  [145, 163, 164, 158, 163, 42, 165, 48, 166, 16...\n",
              "28             1.2  ...  [145, 163, 164, 158, 163, 42, 165, 48, 166, 16...\n",
              "29             1.2  ...  [145, 163, 164, 158, 163, 42, 165, 48, 166, 16...\n",
              "30             1.2  ...  [145, 163, 164, 158, 163, 42, 165, 48, 166, 16...\n",
              "31             1.2  ...  [145, 163, 164, 158, 163, 42, 165, 48, 166, 16...\n",
              "32             1.2  ...  [145, 163, 164, 158, 163, 42, 165, 48, 166, 16...\n",
              "33             1.2  ...  [145, 163, 164, 158, 163, 42, 165, 48, 166, 16...\n",
              "34             1.2  ...  [145, 163, 164, 158, 163, 42, 165, 48, 166, 16...\n",
              "35             1.2  ...  [145, 163, 164, 158, 163, 42, 165, 48, 166, 16...\n",
              "36             1.2  ...  [145, 163, 164, 158, 163, 42, 165, 48, 166, 16...\n",
              "37             1.2  ...  [145, 163, 164, 158, 163, 42, 165, 48, 166, 16...\n",
              "38             1.2  ...  [145, 163, 164, 158, 163, 42, 165, 48, 166, 16...\n",
              "39             1.2  ...  [145, 163, 164, 158, 163, 42, 165, 48, 166, 16...\n",
              "\n",
              "[40 rows x 6 columns]"
            ]
          },
          "metadata": {
            "tags": []
          },
          "execution_count": 61
        }
      ]
    },
    {
      "cell_type": "markdown",
      "metadata": {
        "id": "4OS8HFkOYtMU",
        "colab_type": "text"
      },
      "source": [
        "## **PADDING**"
      ]
    },
    {
      "cell_type": "code",
      "metadata": {
        "id": "7Rbi3OVbYzgD",
        "colab_type": "code",
        "colab": {}
      },
      "source": [
        "X_train=our_df[['Answer_n','Correct_n']]\n",
        "Y_train=our_df['Score']"
      ],
      "execution_count": 0,
      "outputs": []
    },
    {
      "cell_type": "code",
      "metadata": {
        "id": "Vo_P1sx6uiFt",
        "colab_type": "code",
        "outputId": "5f3c0eb6-f7f1-40cb-eed5-b6df61c151e4",
        "colab": {
          "base_uri": "https://localhost:8080/",
          "height": 119
        }
      },
      "source": [
        "for i in X_train:\n",
        "  X_train[i]=pad_sequences(X_train[i],truncating='pre',padding='post',maxlen=max_length).tolist()"
      ],
      "execution_count": 0,
      "outputs": [
        {
          "output_type": "stream",
          "text": [
            "/usr/local/lib/python3.6/dist-packages/ipykernel_launcher.py:2: SettingWithCopyWarning: \n",
            "A value is trying to be set on a copy of a slice from a DataFrame.\n",
            "Try using .loc[row_indexer,col_indexer] = value instead\n",
            "\n",
            "See the caveats in the documentation: http://pandas.pydata.org/pandas-docs/stable/user_guide/indexing.html#returning-a-view-versus-a-copy\n",
            "  \n"
          ],
          "name": "stderr"
        }
      ]
    },
    {
      "cell_type": "code",
      "metadata": {
        "id": "22O17dI__rU9",
        "colab_type": "code",
        "outputId": "6cf916fb-122a-4d87-c084-c117c2034858",
        "colab": {
          "base_uri": "https://localhost:8080/",
          "height": 419
        }
      },
      "source": [
        "X_train"
      ],
      "execution_count": 0,
      "outputs": [
        {
          "output_type": "execute_result",
          "data": {
            "text/html": [
              "<div>\n",
              "<style scoped>\n",
              "    .dataframe tbody tr th:only-of-type {\n",
              "        vertical-align: middle;\n",
              "    }\n",
              "\n",
              "    .dataframe tbody tr th {\n",
              "        vertical-align: top;\n",
              "    }\n",
              "\n",
              "    .dataframe thead th {\n",
              "        text-align: right;\n",
              "    }\n",
              "</style>\n",
              "<table border=\"1\" class=\"dataframe\">\n",
              "  <thead>\n",
              "    <tr style=\"text-align: right;\">\n",
              "      <th></th>\n",
              "      <th>Answer_n</th>\n",
              "      <th>Correct_n</th>\n",
              "    </tr>\n",
              "  </thead>\n",
              "  <tbody>\n",
              "    <tr>\n",
              "      <th>0</th>\n",
              "      <td>[1, 2, 3, 4, 5, 6, 7, 8, 6, 9, 5, 10, 11, 12, ...</td>\n",
              "      <td>[18, 19, 20, 21, 15, 22, 0, 0, 0, 0, 0, 0, 0, ...</td>\n",
              "    </tr>\n",
              "    <tr>\n",
              "      <th>1</th>\n",
              "      <td>[18, 20, 21, 23, 22, 24, 25, 6, 26, 27, 28, 29...</td>\n",
              "      <td>[18, 19, 20, 21, 15, 22, 0, 0, 0, 0, 0, 0, 0, ...</td>\n",
              "    </tr>\n",
              "    <tr>\n",
              "      <th>2</th>\n",
              "      <td>[5, 6, 35, 36, 20, 21, 15, 22, 37, 38, 39, 0, ...</td>\n",
              "      <td>[18, 19, 20, 21, 15, 22, 0, 0, 0, 0, 0, 0, 0, ...</td>\n",
              "    </tr>\n",
              "    <tr>\n",
              "      <th>3</th>\n",
              "      <td>[40, 41, 42, 5, 43, 44, 20, 21, 15, 22, 45, 46...</td>\n",
              "      <td>[18, 19, 20, 21, 15, 22, 0, 0, 0, 0, 0, 0, 0, ...</td>\n",
              "    </tr>\n",
              "    <tr>\n",
              "      <th>4</th>\n",
              "      <td>[12, 52, 53, 54, 55, 56, 6, 37, 57, 58, 6, 59,...</td>\n",
              "      <td>[18, 19, 20, 21, 15, 22, 0, 0, 0, 0, 0, 0, 0, ...</td>\n",
              "    </tr>\n",
              "    <tr>\n",
              "      <th>...</th>\n",
              "      <td>...</td>\n",
              "      <td>...</td>\n",
              "    </tr>\n",
              "    <tr>\n",
              "      <th>133</th>\n",
              "      <td>[500, 402, 142, 254, 0, 0, 0, 0, 0, 0, 0, 0, 0...</td>\n",
              "      <td>[361, 472, 478, 6, 472, 479, 127, 480, 361, 48...</td>\n",
              "    </tr>\n",
              "    <tr>\n",
              "      <th>134</th>\n",
              "      <td>[478, 161, 494, 504, 161, 478, 0, 0, 0, 0, 0, ...</td>\n",
              "      <td>[361, 472, 478, 6, 472, 479, 127, 480, 361, 48...</td>\n",
              "    </tr>\n",
              "    <tr>\n",
              "      <th>135</th>\n",
              "      <td>[12, 0, 0, 0, 0, 0, 0, 0, 0, 0, 0, 0, 0, 0, 0,...</td>\n",
              "      <td>[361, 472, 478, 6, 472, 479, 127, 480, 361, 48...</td>\n",
              "    </tr>\n",
              "    <tr>\n",
              "      <th>136</th>\n",
              "      <td>[478, 505, 12, 0, 0, 0, 0, 0, 0, 0, 0, 0, 0, 0...</td>\n",
              "      <td>[361, 472, 478, 6, 472, 479, 127, 480, 361, 48...</td>\n",
              "    </tr>\n",
              "    <tr>\n",
              "      <th>137</th>\n",
              "      <td>[361, 472, 236, 326, 0, 0, 0, 0, 0, 0, 0, 0, 0...</td>\n",
              "      <td>[361, 472, 478, 6, 472, 479, 127, 480, 361, 48...</td>\n",
              "    </tr>\n",
              "  </tbody>\n",
              "</table>\n",
              "<p>138 rows × 2 columns</p>\n",
              "</div>"
            ],
            "text/plain": [
              "                                              Answer_n                                          Correct_n\n",
              "0    [1, 2, 3, 4, 5, 6, 7, 8, 6, 9, 5, 10, 11, 12, ...  [18, 19, 20, 21, 15, 22, 0, 0, 0, 0, 0, 0, 0, ...\n",
              "1    [18, 20, 21, 23, 22, 24, 25, 6, 26, 27, 28, 29...  [18, 19, 20, 21, 15, 22, 0, 0, 0, 0, 0, 0, 0, ...\n",
              "2    [5, 6, 35, 36, 20, 21, 15, 22, 37, 38, 39, 0, ...  [18, 19, 20, 21, 15, 22, 0, 0, 0, 0, 0, 0, 0, ...\n",
              "3    [40, 41, 42, 5, 43, 44, 20, 21, 15, 22, 45, 46...  [18, 19, 20, 21, 15, 22, 0, 0, 0, 0, 0, 0, 0, ...\n",
              "4    [12, 52, 53, 54, 55, 56, 6, 37, 57, 58, 6, 59,...  [18, 19, 20, 21, 15, 22, 0, 0, 0, 0, 0, 0, 0, ...\n",
              "..                                                 ...                                                ...\n",
              "133  [500, 402, 142, 254, 0, 0, 0, 0, 0, 0, 0, 0, 0...  [361, 472, 478, 6, 472, 479, 127, 480, 361, 48...\n",
              "134  [478, 161, 494, 504, 161, 478, 0, 0, 0, 0, 0, ...  [361, 472, 478, 6, 472, 479, 127, 480, 361, 48...\n",
              "135  [12, 0, 0, 0, 0, 0, 0, 0, 0, 0, 0, 0, 0, 0, 0,...  [361, 472, 478, 6, 472, 479, 127, 480, 361, 48...\n",
              "136  [478, 505, 12, 0, 0, 0, 0, 0, 0, 0, 0, 0, 0, 0...  [361, 472, 478, 6, 472, 479, 127, 480, 361, 48...\n",
              "137  [361, 472, 236, 326, 0, 0, 0, 0, 0, 0, 0, 0, 0...  [361, 472, 478, 6, 472, 479, 127, 480, 361, 48...\n",
              "\n",
              "[138 rows x 2 columns]"
            ]
          },
          "metadata": {
            "tags": []
          },
          "execution_count": 64
        }
      ]
    },
    {
      "cell_type": "markdown",
      "metadata": {
        "id": "ZJVXh87Nwc0N",
        "colab_type": "text"
      },
      "source": [
        "## **Converting into numpy**"
      ]
    },
    {
      "cell_type": "code",
      "metadata": {
        "id": "oQVBASvZwb5z",
        "colab_type": "code",
        "outputId": "9e2cfd34-5a97-4404-f77d-97cff38c147f",
        "colab": {
          "base_uri": "https://localhost:8080/",
          "height": 51
        }
      },
      "source": [
        "temp3,temp4=numpyer(X_train)"
      ],
      "execution_count": 0,
      "outputs": [
        {
          "output_type": "stream",
          "text": [
            "(138, 25)\n",
            "(138, 25)\n"
          ],
          "name": "stdout"
        }
      ]
    },
    {
      "cell_type": "code",
      "metadata": {
        "id": "cdddwfUdwr4X",
        "colab_type": "code",
        "colab": {}
      },
      "source": [
        "Y_train=Y_train.values"
      ],
      "execution_count": 0,
      "outputs": []
    },
    {
      "cell_type": "markdown",
      "metadata": {
        "id": "SfXsJXmQ5VJf",
        "colab_type": "text"
      },
      "source": [
        "# **TEST**"
      ]
    },
    {
      "cell_type": "code",
      "metadata": {
        "id": "ioPNgYnQ6Y6t",
        "colab_type": "code",
        "outputId": "902625ee-a996-4764-c723-4c421ffaf102",
        "colab": {
          "base_uri": "https://localhost:8080/",
          "height": 34
        }
      },
      "source": [
        "print(temp3.shape,temp4.shape)"
      ],
      "execution_count": 0,
      "outputs": [
        {
          "output_type": "stream",
          "text": [
            "(138, 25) (138, 25)\n"
          ],
          "name": "stdout"
        }
      ]
    },
    {
      "cell_type": "code",
      "metadata": {
        "id": "LvSJtmEYkJBd",
        "colab_type": "code",
        "colab": {}
      },
      "source": [
        "y_pred=model.predict([temp3,temp4])\n"
      ],
      "execution_count": 0,
      "outputs": []
    },
    {
      "cell_type": "code",
      "metadata": {
        "id": "OpwoGmgJkOud",
        "colab_type": "code",
        "outputId": "fdc4fc5d-ec5b-4e63-bc86-8f29f8760cc9",
        "colab": {
          "base_uri": "https://localhost:8080/",
          "height": 1000
        }
      },
      "source": [
        "y_pred"
      ],
      "execution_count": 0,
      "outputs": [
        {
          "output_type": "execute_result",
          "data": {
            "text/plain": [
              "array([[3.7357326],\n",
              "       [3.8299754],\n",
              "       [3.8807633],\n",
              "       [3.7803981],\n",
              "       [3.43931  ],\n",
              "       [3.7836528],\n",
              "       [3.6377141],\n",
              "       [3.676918 ],\n",
              "       [3.7606459],\n",
              "       [3.7317874],\n",
              "       [3.749057 ],\n",
              "       [3.802496 ],\n",
              "       [3.6713564],\n",
              "       [3.7436934],\n",
              "       [3.1703787],\n",
              "       [3.530476 ],\n",
              "       [3.802496 ],\n",
              "       [3.691301 ],\n",
              "       [3.6270952],\n",
              "       [3.7685478],\n",
              "       [3.8009095],\n",
              "       [3.8009095],\n",
              "       [3.7247183],\n",
              "       [3.9558291],\n",
              "       [4.0004272],\n",
              "       [4.0343103],\n",
              "       [3.998835 ],\n",
              "       [4.037807 ],\n",
              "       [3.9602876],\n",
              "       [3.966876 ],\n",
              "       [3.937341 ],\n",
              "       [3.9142942],\n",
              "       [3.9519765],\n",
              "       [3.960438 ],\n",
              "       [4.0314646],\n",
              "       [3.9679027],\n",
              "       [3.9040291],\n",
              "       [3.9377654],\n",
              "       [3.9720073],\n",
              "       [3.9781718],\n",
              "       [4.0429616],\n",
              "       [3.9679027],\n",
              "       [4.0703483],\n",
              "       [3.966876 ],\n",
              "       [3.9491467],\n",
              "       [3.966876 ],\n",
              "       [2.9448347],\n",
              "       [3.3323355],\n",
              "       [2.5624704],\n",
              "       [3.179177 ],\n",
              "       [2.8370714],\n",
              "       [3.0194764],\n",
              "       [3.6239662],\n",
              "       [3.035803 ],\n",
              "       [2.761114 ],\n",
              "       [3.2101796],\n",
              "       [2.896376 ],\n",
              "       [2.7677145],\n",
              "       [2.8386295],\n",
              "       [1.080337 ],\n",
              "       [3.2341285],\n",
              "       [2.6822937],\n",
              "       [2.6927626],\n",
              "       [2.3627381],\n",
              "       [2.4775958],\n",
              "       [3.197703 ],\n",
              "       [2.7677145],\n",
              "       [2.4878426],\n",
              "       [2.5836544],\n",
              "       [3.3263254],\n",
              "       [3.54308  ],\n",
              "       [3.7260618],\n",
              "       [3.7251592],\n",
              "       [3.5241532],\n",
              "       [3.2989118],\n",
              "       [3.6952078],\n",
              "       [3.73086  ],\n",
              "       [3.5345268],\n",
              "       [3.7212849],\n",
              "       [3.7302914],\n",
              "       [3.6952078],\n",
              "       [3.3379893],\n",
              "       [3.5345268],\n",
              "       [3.7449276],\n",
              "       [3.5345268],\n",
              "       [3.5345268],\n",
              "       [3.5345268],\n",
              "       [3.54308  ],\n",
              "       [2.725669 ],\n",
              "       [3.5345268],\n",
              "       [3.7212849],\n",
              "       [3.769163 ],\n",
              "       [2.806083 ],\n",
              "       [3.1763191],\n",
              "       [4.0305924],\n",
              "       [3.3298125],\n",
              "       [3.335711 ],\n",
              "       [3.8109517],\n",
              "       [3.9314184],\n",
              "       [3.4758375],\n",
              "       [4.0571194],\n",
              "       [4.0183725],\n",
              "       [3.315814 ],\n",
              "       [4.0704136],\n",
              "       [3.4445894],\n",
              "       [4.075102 ],\n",
              "       [4.0540047],\n",
              "       [3.50068  ],\n",
              "       [4.030895 ],\n",
              "       [3.051835 ],\n",
              "       [4.0301504],\n",
              "       [3.511652 ],\n",
              "       [3.4776342],\n",
              "       [4.0704136],\n",
              "       [3.4889314],\n",
              "       [3.346374 ],\n",
              "       [3.3349314],\n",
              "       [3.4208746],\n",
              "       [3.3874152],\n",
              "       [3.372014 ],\n",
              "       [3.367269 ],\n",
              "       [3.3755789],\n",
              "       [3.3730674],\n",
              "       [3.355076 ],\n",
              "       [3.350949 ],\n",
              "       [3.3609307],\n",
              "       [3.3600307],\n",
              "       [3.3485343],\n",
              "       [3.3741312],\n",
              "       [3.3683512],\n",
              "       [3.3233058],\n",
              "       [3.3623357],\n",
              "       [3.3040035],\n",
              "       [3.3658895],\n",
              "       [3.3613253],\n",
              "       [3.369107 ],\n",
              "       [3.3300064],\n",
              "       [3.3669333]], dtype=float32)"
            ]
          },
          "metadata": {
            "tags": []
          },
          "execution_count": 70
        }
      ]
    },
    {
      "cell_type": "code",
      "metadata": {
        "id": "itwzmULfzOzh",
        "colab_type": "code",
        "outputId": "b90939cb-1623-4f93-c22e-af8dcf7db5c9",
        "colab": {
          "base_uri": "https://localhost:8080/",
          "height": 164
        }
      },
      "source": [
        "y_pred=models.predict([temp3,temp4])\n"
      ],
      "execution_count": 0,
      "outputs": [
        {
          "output_type": "error",
          "ename": "NameError",
          "evalue": "ignored",
          "traceback": [
            "\u001b[0;31m---------------------------------------------------------------------------\u001b[0m",
            "\u001b[0;31mNameError\u001b[0m                                 Traceback (most recent call last)",
            "\u001b[0;32m<ipython-input-68-ef3e8c4e1d2c>\u001b[0m in \u001b[0;36m<module>\u001b[0;34m()\u001b[0m\n\u001b[0;32m----> 1\u001b[0;31m \u001b[0my_pred\u001b[0m\u001b[0;34m=\u001b[0m\u001b[0mmodels\u001b[0m\u001b[0;34m.\u001b[0m\u001b[0mpredict\u001b[0m\u001b[0;34m(\u001b[0m\u001b[0;34m[\u001b[0m\u001b[0mtemp3\u001b[0m\u001b[0;34m,\u001b[0m\u001b[0mtemp4\u001b[0m\u001b[0;34m]\u001b[0m\u001b[0;34m)\u001b[0m\u001b[0;34m\u001b[0m\u001b[0;34m\u001b[0m\u001b[0m\n\u001b[0m",
            "\u001b[0;31mNameError\u001b[0m: name 'models' is not defined"
          ]
        }
      ]
    },
    {
      "cell_type": "code",
      "metadata": {
        "id": "7V_pexeylU4A",
        "colab_type": "code",
        "colab": {}
      },
      "source": [
        "y_pred_stack=model_stack.predict([temp3,temp4])\n"
      ],
      "execution_count": 0,
      "outputs": []
    },
    {
      "cell_type": "code",
      "metadata": {
        "id": "jD53ZMpt61nm",
        "colab_type": "code",
        "colab": {}
      },
      "source": [
        "y_pred_bi=model_bi.predict([temp3,temp4])\n"
      ],
      "execution_count": 0,
      "outputs": []
    },
    {
      "cell_type": "code",
      "metadata": {
        "id": "1aBMC8Go61jM",
        "colab_type": "code",
        "outputId": "4d947ae6-dff2-458f-ea4e-6def9714e0e8",
        "colab": {
          "base_uri": "https://localhost:8080/",
          "height": 204
        }
      },
      "source": [
        "Y_train"
      ],
      "execution_count": 0,
      "outputs": [
        {
          "output_type": "execute_result",
          "data": {
            "text/plain": [
              "array([3.5, 5. , 4. , 5. , 3. , 2. , 2.5, 5. , 3.5, 5. , 5. , 5. , 2. ,\n",
              "       4.5, 2. , 4.5, 5. , 2. , 2. , 2.5, 5. , 5. , 1.5, 3.5, 4. , 4.5,\n",
              "       3. , 3. , 2. , 3.5, 4. , 2. , 5. , 2.5, 3.5, 2. , 3. , 1.5, 5. ,\n",
              "       3.5, 1.5, 2.5, 1.5, 3. , 5. , 3.5, 4.5, 5. , 3.5, 2.5, 3.5, 1. ,\n",
              "       4. , 2.5, 3. , 4. , 5. , 3.5, 2. , 3.5, 4.5, 5. , 4.5, 3.5, 4. ,\n",
              "       4.5, 3.5, 3.5, 5. , 5. , 5. , 5. , 5. , 5. , 5. , 5. , 0. , 5. ,\n",
              "       5. , 5. , 5. , 2.5, 5. , 5. , 5. , 5. , 5. , 5. , 5. , 5. , 5. ,\n",
              "       5. , 2. , 4.5, 5. , 5. , 5. , 3.5, 4. , 5. , 4. , 5. , 5. , 5. ,\n",
              "       3. , 4. , 5. , 5. , 4. , 4.5, 4.5, 4.5, 3.5, 5. , 3.5, 2. , 3. ,\n",
              "       5. , 4.5, 4. , 2.5, 5. , 5. , 2. , 4.5, 3. , 2.5, 1.5, 5. , 2.5,\n",
              "       3.5, 2. , 2.5, 1. , 3. , 2. , 3.5, 2.5])"
            ]
          },
          "metadata": {
            "tags": []
          },
          "execution_count": 72
        }
      ]
    },
    {
      "cell_type": "code",
      "metadata": {
        "id": "vyZG3rUumcrU",
        "colab_type": "code",
        "colab": {}
      },
      "source": [
        "def accurate(y,y_pre):\n",
        "  ans=0\n",
        "  for i,j in enumerate(y):\n",
        "    if j!=0 :\n",
        "      ans += abs(j-y_pre[i])/j\n",
        "  ans = ans/y.shape[0]   \n",
        "  return 1-ans"
      ],
      "execution_count": 0,
      "outputs": []
    },
    {
      "cell_type": "code",
      "metadata": {
        "id": "Uua2MVThEc2M",
        "colab_type": "code",
        "colab": {}
      },
      "source": [
        "table=pd.DataFrame(list(our_df['Answer'][20:24]),columns=['SENTENCE'])"
      ],
      "execution_count": 0,
      "outputs": []
    },
    {
      "cell_type": "code",
      "metadata": {
        "id": "AuXh-1ODEpjR",
        "colab_type": "code",
        "colab": {}
      },
      "source": [
        "table['GROUND TRUTH']=Y_train[20:24]\n",
        "table['MALSTM']=y_pred[20:24]\n",
        "table['MASLSTM']=(y_pred_stack[20:24])\n",
        "table['MABLSTM']=(y_pred_bi[20:24])"
      ],
      "execution_count": 0,
      "outputs": []
    },
    {
      "cell_type": "code",
      "metadata": {
        "id": "VuZxdkswGu1o",
        "colab_type": "code",
        "colab": {}
      },
      "source": [
        "table.at[1,'SENTENCE']=our_df['Answer'][26]\n"
      ],
      "execution_count": 0,
      "outputs": []
    },
    {
      "cell_type": "code",
      "metadata": {
        "id": "TRIrW81LF0sQ",
        "colab_type": "code",
        "outputId": "54e88392-cbb1-4969-c7fd-3d965286b494",
        "colab": {
          "base_uri": "https://localhost:8080/",
          "height": 166
        }
      },
      "source": [
        "table.head()"
      ],
      "execution_count": 0,
      "outputs": [
        {
          "output_type": "execute_result",
          "data": {
            "text/html": [
              "<div>\n",
              "<style scoped>\n",
              "    .dataframe tbody tr th:only-of-type {\n",
              "        vertical-align: middle;\n",
              "    }\n",
              "\n",
              "    .dataframe tbody tr th {\n",
              "        vertical-align: top;\n",
              "    }\n",
              "\n",
              "    .dataframe thead th {\n",
              "        text-align: right;\n",
              "    }\n",
              "</style>\n",
              "<table border=\"1\" class=\"dataframe\">\n",
              "  <thead>\n",
              "    <tr style=\"text-align: right;\">\n",
              "      <th></th>\n",
              "      <th>SENTENCE</th>\n",
              "      <th>GROUND TRUTH</th>\n",
              "      <th>MALSTM</th>\n",
              "      <th>MASLSTM</th>\n",
              "      <th>MABLSTM</th>\n",
              "    </tr>\n",
              "  </thead>\n",
              "  <tbody>\n",
              "    <tr>\n",
              "      <th>0</th>\n",
              "      <td>it simulates the behavior of portions of the d...</td>\n",
              "      <td>5.0</td>\n",
              "      <td>4.943291</td>\n",
              "      <td>4.853374</td>\n",
              "      <td>4.534870</td>\n",
              "    </tr>\n",
              "    <tr>\n",
              "      <th>1</th>\n",
              "      <td>In RUP the stages in the software life cycle a...</td>\n",
              "      <td>5.0</td>\n",
              "      <td>4.943291</td>\n",
              "      <td>4.853374</td>\n",
              "      <td>4.534870</td>\n",
              "    </tr>\n",
              "    <tr>\n",
              "      <th>2</th>\n",
              "      <td>A prototype program is used in problem solving...</td>\n",
              "      <td>1.5</td>\n",
              "      <td>0.678165</td>\n",
              "      <td>2.762904</td>\n",
              "      <td>1.681617</td>\n",
              "    </tr>\n",
              "    <tr>\n",
              "      <th>3</th>\n",
              "      <td>Refining and possibly the design if the testin...</td>\n",
              "      <td>3.5</td>\n",
              "      <td>0.032723</td>\n",
              "      <td>2.815506</td>\n",
              "      <td>0.006436</td>\n",
              "    </tr>\n",
              "  </tbody>\n",
              "</table>\n",
              "</div>"
            ],
            "text/plain": [
              "                                            SENTENCE  ...   MABLSTM\n",
              "0  it simulates the behavior of portions of the d...  ...  4.534870\n",
              "1  In RUP the stages in the software life cycle a...  ...  4.534870\n",
              "2  A prototype program is used in problem solving...  ...  1.681617\n",
              "3  Refining and possibly the design if the testin...  ...  0.006436\n",
              "\n",
              "[4 rows x 5 columns]"
            ]
          },
          "metadata": {
            "tags": []
          },
          "execution_count": 90
        }
      ]
    },
    {
      "cell_type": "code",
      "metadata": {
        "id": "1MyKpZFCC2b-",
        "colab_type": "code",
        "outputId": "940810b1-c0c2-4345-a4f7-df3f502b3530",
        "colab": {
          "base_uri": "https://localhost:8080/",
          "height": 187
        }
      },
      "source": [
        "y_pred[:10]"
      ],
      "execution_count": 0,
      "outputs": [
        {
          "output_type": "execute_result",
          "data": {
            "text/plain": [
              "array([[3.7357326],\n",
              "       [3.8299754],\n",
              "       [3.8807633],\n",
              "       [3.7803981],\n",
              "       [3.43931  ],\n",
              "       [3.7836528],\n",
              "       [3.6377141],\n",
              "       [3.676918 ],\n",
              "       [3.7606459],\n",
              "       [3.7317874]], dtype=float32)"
            ]
          },
          "metadata": {
            "tags": []
          },
          "execution_count": 73
        }
      ]
    },
    {
      "cell_type": "code",
      "metadata": {
        "id": "bpprXyENksfc",
        "colab_type": "code",
        "colab": {}
      },
      "source": [
        "y_pred[:10]"
      ],
      "execution_count": 0,
      "outputs": []
    },
    {
      "cell_type": "code",
      "metadata": {
        "id": "VVZL23RlC7X0",
        "colab_type": "code",
        "outputId": "242eee1f-2225-4cec-e2fc-488dfcaee537",
        "colab": {
          "base_uri": "https://localhost:8080/",
          "height": 185
        }
      },
      "source": [
        "y_pred_stack[:10]"
      ],
      "execution_count": 0,
      "outputs": [
        {
          "output_type": "execute_result",
          "data": {
            "text/plain": [
              "array([[2.3073244],\n",
              "       [2.3576195],\n",
              "       [2.7211375],\n",
              "       [2.7047513],\n",
              "       [1.5817236],\n",
              "       [2.2481139],\n",
              "       [2.3438067],\n",
              "       [3.4693856],\n",
              "       [2.8828275],\n",
              "       [3.9236023]], dtype=float32)"
            ]
          },
          "metadata": {
            "tags": []
          },
          "execution_count": 92
        }
      ]
    },
    {
      "cell_type": "code",
      "metadata": {
        "id": "b1Dm2AmHC_k-",
        "colab_type": "code",
        "outputId": "f9292451-a942-4227-a9ab-cbecb24fc777",
        "colab": {
          "base_uri": "https://localhost:8080/",
          "height": 185
        }
      },
      "source": [
        "y_pred_bi[:10]"
      ],
      "execution_count": 0,
      "outputs": [
        {
          "output_type": "execute_result",
          "data": {
            "text/plain": [
              "array([[1.1588485e+00],\n",
              "       [4.0042779e-04],\n",
              "       [7.3284811e-01],\n",
              "       [8.0257365e-03],\n",
              "       [1.4102890e-04],\n",
              "       [4.3314141e-03],\n",
              "       [1.0163919e-06],\n",
              "       [2.4998813e+00],\n",
              "       [1.4779031e+00],\n",
              "       [3.1481485e+00]], dtype=float32)"
            ]
          },
          "metadata": {
            "tags": []
          },
          "execution_count": 93
        }
      ]
    },
    {
      "cell_type": "code",
      "metadata": {
        "id": "oX-2ft8XDDXZ",
        "colab_type": "code",
        "outputId": "60cd4b4c-9a0a-43ac-b4d9-169057d364bd",
        "colab": {
          "base_uri": "https://localhost:8080/",
          "height": 34
        }
      },
      "source": [
        "accurate(Y_train,y_pred)[0]"
      ],
      "execution_count": 0,
      "outputs": [
        {
          "output_type": "execute_result",
          "data": {
            "text/plain": [
              "0.6298064"
            ]
          },
          "metadata": {
            "tags": []
          },
          "execution_count": 74
        }
      ]
    },
    {
      "cell_type": "code",
      "metadata": {
        "id": "mx24q80G61Z1",
        "colab_type": "code",
        "outputId": "4a9cc669-74c4-44cf-a51a-9e86640afb94",
        "colab": {
          "base_uri": "https://localhost:8080/",
          "height": 34
        }
      },
      "source": [
        "accurate(Y_train,y_pred)[0]"
      ],
      "execution_count": 0,
      "outputs": [
        {
          "output_type": "execute_result",
          "data": {
            "text/plain": [
              "0.35655445"
            ]
          },
          "metadata": {
            "tags": []
          },
          "execution_count": 94
        }
      ]
    },
    {
      "cell_type": "code",
      "metadata": {
        "id": "6W1A8J4amYhr",
        "colab_type": "code",
        "outputId": "4e88da9f-d45b-402a-e1f0-f9cf5ac920e7",
        "colab": {
          "base_uri": "https://localhost:8080/",
          "height": 34
        }
      },
      "source": [
        "accurate(Y_train,y_pred_stack)[0]"
      ],
      "execution_count": 0,
      "outputs": [
        {
          "output_type": "execute_result",
          "data": {
            "text/plain": [
              "0.6868739"
            ]
          },
          "metadata": {
            "tags": []
          },
          "execution_count": 95
        }
      ]
    },
    {
      "cell_type": "code",
      "metadata": {
        "id": "fBjxJPGWrbdl",
        "colab_type": "code",
        "outputId": "36e8fc1d-f0ae-4a92-e6c2-484b3a8756de",
        "colab": {
          "base_uri": "https://localhost:8080/",
          "height": 34
        }
      },
      "source": [
        "accurate(Y_train,y_pred_bi)[0]"
      ],
      "execution_count": 0,
      "outputs": [
        {
          "output_type": "execute_result",
          "data": {
            "text/plain": [
              "0.28644907"
            ]
          },
          "metadata": {
            "tags": []
          },
          "execution_count": 96
        }
      ]
    }
  ]
}